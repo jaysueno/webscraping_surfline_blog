{
 "cells": [
  {
   "cell_type": "markdown",
   "metadata": {},
   "source": [
    "# This is an exploratory notebook for a webscrapping app\n",
    "### Under Construction"
   ]
  },
  {
   "cell_type": "code",
   "execution_count": 14,
   "metadata": {},
   "outputs": [],
   "source": [
    "# Import librarys\n",
    "import pandas as pd \n",
    "import os\n",
    "import requests\n",
    "from splinter import Browser\n",
    "from bs4 import BeautifulSoup as bs \n",
    "import datetime as dt"
   ]
  },
  {
   "cell_type": "code",
   "execution_count": 15,
   "metadata": {},
   "outputs": [],
   "source": [
    "# Define the Surfline blog page URL\n",
    "url = 'https://www.surfline.com/surf-news'\n",
    "\n",
    "# Retrive the page with the request module\n",
    "response = requests.get(url)\n",
    "\n",
    "# convert the response to text to obtain the html\n",
    "html = response.text"
   ]
  },
  {
   "cell_type": "code",
   "execution_count": 16,
   "metadata": {},
   "outputs": [],
   "source": [
    "# Establish Chrome driver executable path. Make sure to dfine actual location on your drive.\n",
    "executable_path = {'executable_path': 'C:/Users/jaysu/chromedriver'}\n",
    "\n",
    "# Open a splinter browser\n",
    "browser = Browser('chrome', **executable_path, headless=False)"
   ]
  },
  {
   "cell_type": "code",
   "execution_count": 17,
   "metadata": {},
   "outputs": [],
   "source": [
    "# Visit the defined URL on your splinter browser\n",
    "browser.visit(url)"
   ]
  },
  {
   "cell_type": "code",
   "execution_count": 18,
   "metadata": {},
   "outputs": [],
   "source": [
    "# Create a BeautifulSoup object with the splinter broswer.html method to parse the html with 'html.parser' or 'lmxl' formats\n",
    "soup = bs(browser.html, 'html.parser')\n"
   ]
  },
  {
   "cell_type": "code",
   "execution_count": 22,
   "metadata": {},
   "outputs": [],
   "source": [
    "# find all the image cards that hold the links to the stories\n",
    "news_links = soup.find_all('div', class_='quiver-feed-card__image')"
   ]
  },
  {
   "cell_type": "code",
   "execution_count": 37,
   "metadata": {},
   "outputs": [
    {
     "output_type": "stream",
     "name": "stdout",
     "text": [
      "Number of stories 85\nExample of the first html element block:\n<div class=\"quiver-feed-card__image\"><a aria-label=\"Feed Card Image\" href=\"https://www.surfline.com/surf-news/innergs-russo-cam-ep-1-a-watery-look-into-the-north-shores-secret-society/108082\" style='background-image: url(\"https://www.surfline.com/cdn-cgi/image/w=740,q=85,f=auto,fit=contain/https://d14fqx6aetz9ka.cloudfront.net/wp-content/uploads/2018/12/03085831/DanielRusso_NathanFletcherNathan-Fletcher-pipeline--1560x1060.jpg\");' tabindex=\"0\" target=\"\"></a></div>\n"
     ]
    }
   ],
   "source": [
    "# check to see the first element contains element contents desired\n",
    "print(f'Number of stories {len(news_links)}')\n",
    "print(f'Example of the first html element block:')\n",
    "print(news_links[0])"
   ]
  },
  {
   "cell_type": "code",
   "execution_count": 29,
   "metadata": {},
   "outputs": [
    {
     "output_type": "stream",
     "name": "stdout",
     "text": [
      "https://www.surfline.com/surf-news/innergs-russo-cam-ep-1-a-watery-look-into-the-north-shores-secret-society/108082\n"
     ]
    }
   ],
   "source": [
    "link = news_links[0].find('a')['href']\n",
    "print(link)"
   ]
  },
  {
   "cell_type": "code",
   "execution_count": null,
   "metadata": {},
   "outputs": [],
   "source": [
    "for item in news_links:\n",
    "    url = news_links[0].find('a')['href']\n",
    "    browser.visit(url)\n",
    "    time.sleep(1)\n",
    "    soup = bs(browser.html, 'html.parser')"
   ]
  },
  {
   "cell_type": "code",
   "execution_count": 40,
   "metadata": {},
   "outputs": [],
   "source": [
    "browser.visit(link)"
   ]
  },
  {
   "cell_type": "code",
   "execution_count": 47,
   "metadata": {},
   "outputs": [
    {
     "output_type": "execute_result",
     "data": {
      "text/plain": [
       "[<h1 class=\"sl-editorial-article-heading__title\">Russo Cam: A watery look into the North Shore’s \"secret society.\"</h1>]"
      ]
     },
     "metadata": {},
     "execution_count": 47
    }
   ],
   "source": [
    "soup2 = bs(browser.html, 'html.parser')\n",
    "title = soup2.find_all('h1')\n",
    "title"
   ]
  },
  {
   "cell_type": "code",
   "execution_count": 54,
   "metadata": {},
   "outputs": [
    {
     "output_type": "execute_result",
     "data": {
      "text/plain": [
       "['On a clear winter’s day on the balmy coastline of Oahu’s North Shore, Daniel Russo floats, serenely. The sea is agitated, churning, and sucking toward the horizon as the Banzai Pipeline crowd scratches toward an incoming west set that’s capped slightly on Second\\xa0Reef, then standing up tall and slab-like for any brave takers willing to turn on this First Reef behemoth.',\n",
       " 'But while underground heavies jockey with visiting CT pros and brazen youth trying to make a name for themselves, Daniel holds his position, treading water, one arm clutching a heavy water housing, a bizarre portrait of calm, a few feet from the impact zone of the world’s most deadliest wave.']"
      ]
     },
     "metadata": {},
     "execution_count": 54
    }
   ],
   "source": [
    "# append the text in the article to p_text list\n",
    "p_text = []\n",
    "text = soup2.find_all('p')\n",
    "p_text.append(text[1].text)\n",
    "p_text.append(text[2].text)\n",
    "p_text"
   ]
  },
  {
   "cell_type": "code",
   "execution_count": 80,
   "metadata": {},
   "outputs": [
    {
     "output_type": "execute_result",
     "data": {
      "text/plain": [
       "[<ul class=\"sl-article-tags\"><li><a href=\"https://www.surfline.com/tag/cbd\">CBD</a></li><li><a href=\"https://www.surfline.com/tag/daniel-russo\">Daniel Russo</a></li><li><a href=\"https://www.surfline.com/tag/innerg\">InnerG</a></li><li><a href=\"https://www.surfline.com/tag/pipeline\">pipeline</a></li></ul>]"
      ]
     },
     "metadata": {},
     "execution_count": 80
    }
   ],
   "source": [
    "# Bsoup object for tags\n",
    "tags1 = soup.find_all('ul', class_='sl-article-tags')\n",
    "tags1"
   ]
  },
  {
   "cell_type": "code",
   "execution_count": 86,
   "metadata": {},
   "outputs": [
    {
     "output_type": "execute_result",
     "data": {
      "text/plain": [
       "'CBD'"
      ]
     },
     "metadata": {},
     "execution_count": 86
    }
   ],
   "source": [
    "# .find() the nested list element text \n",
    "tags_text = tags1[0].find('li').text"
   ]
  },
  {
   "cell_type": "code",
   "execution_count": null,
   "metadata": {},
   "outputs": [],
   "source": []
  }
 ],
 "metadata": {
  "kernelspec": {
   "display_name": "Python 3",
   "language": "python",
   "name": "python3"
  },
  "language_info": {
   "codemirror_mode": {
    "name": "ipython",
    "version": 3
   },
   "file_extension": ".py",
   "mimetype": "text/x-python",
   "name": "python",
   "nbconvert_exporter": "python",
   "pygments_lexer": "ipython3",
   "version": "3.8.3-final"
  }
 },
 "nbformat": 4,
 "nbformat_minor": 4
}