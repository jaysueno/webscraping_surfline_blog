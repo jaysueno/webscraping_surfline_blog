{
 "metadata": {
  "language_info": {
   "codemirror_mode": {
    "name": "ipython",
    "version": 3
   },
   "file_extension": ".py",
   "mimetype": "text/x-python",
   "name": "python",
   "nbconvert_exporter": "python",
   "pygments_lexer": "ipython3",
   "version": "3.8.3-final"
  },
  "orig_nbformat": 2,
  "kernelspec": {
   "name": "python3",
   "display_name": "Python 3",
   "language": "python"
  }
 },
 "nbformat": 4,
 "nbformat_minor": 2,
 "cells": [
  {
   "source": [
    "# Data Cleanup"
   ],
   "cell_type": "markdown",
   "metadata": {}
  },
  {
   "cell_type": "code",
   "execution_count": 14,
   "metadata": {},
   "outputs": [
    {
     "output_type": "stream",
     "name": "stderr",
     "text": [
      "[nltk_data] Downloading package stopwords to\n[nltk_data]     C:\\Users\\jaysu\\AppData\\Roaming\\nltk_data...\n[nltk_data]   Package stopwords is already up-to-date!\n[nltk_data] Downloading package punkt to\n[nltk_data]     C:\\Users\\jaysu\\AppData\\Roaming\\nltk_data...\n[nltk_data]   Package punkt is already up-to-date!\n"
     ]
    },
    {
     "output_type": "execute_result",
     "data": {
      "text/plain": [
       "True"
      ]
     },
     "metadata": {},
     "execution_count": 14
    }
   ],
   "source": [
    "import pandas as pd\n",
    "import re\n",
    "import datetime\n",
    "# Use nltk for tokenizer and stopwords removal\n",
    "import nltk\n",
    "from nltk.corpus import stopwords\n",
    "nltk.download('stopwords')\n",
    "from nltk.tokenize import word_tokenize\n",
    "nltk.download('punkt')"
   ]
  },
  {
   "cell_type": "code",
   "execution_count": 5,
   "metadata": {},
   "outputs": [],
   "source": [
    "df = pd.read_csv('data/surfline_news_scrape.csv')"
   ]
  },
  {
   "cell_type": "code",
   "execution_count": 13,
   "metadata": {},
   "outputs": [
    {
     "output_type": "execute_result",
     "data": {
      "text/plain": [
       "             date                                              title  \\\n",
       "0              []  Russo Cam: A watery look into the North Shore’...   \n",
       "1   Nov 2nd, 2020  Watch: Meet Kehu Butler, the 20-Year-Old Risin...   \n",
       "2  Oct 17th, 2020  With No 2020 Olympics, How're the Surfers Feel...   \n",
       "3  Oct 13th, 2020  Watch Tom Carroll & Matt Grainger Break Down T...   \n",
       "4  Jan 18th, 2021  A Powerful South and SSE Groundswell Is About ...   \n",
       "\n",
       "                                           tags_text  \\\n",
       "0         [\"CBD\",\"Daniel Russo\",\"InnerG\",\"pipeline\"]   \n",
       "1                                                 []   \n",
       "2  [\"ISA\",\"Jordy Smith\",\"Olympics\",\"sally fitzgib...   \n",
       "3                                                 []   \n",
       "4                                                 []   \n",
       "\n",
       "                                              p_text  \n",
       "0  [\"Quickly access the spots you care about most...  \n",
       "1  [\"Quickly access the spots you care about most...  \n",
       "2  [\"Quickly access the spots you care about most...  \n",
       "3  [\"Quickly access the spots you care about most...  \n",
       "4  [\"Quickly access the spots you care about most...  "
      ],
      "text/html": "<div>\n<style scoped>\n    .dataframe tbody tr th:only-of-type {\n        vertical-align: middle;\n    }\n\n    .dataframe tbody tr th {\n        vertical-align: top;\n    }\n\n    .dataframe thead th {\n        text-align: right;\n    }\n</style>\n<table border=\"1\" class=\"dataframe\">\n  <thead>\n    <tr style=\"text-align: right;\">\n      <th></th>\n      <th>date</th>\n      <th>title</th>\n      <th>tags_text</th>\n      <th>p_text</th>\n    </tr>\n  </thead>\n  <tbody>\n    <tr>\n      <th>0</th>\n      <td>[]</td>\n      <td>Russo Cam: A watery look into the North Shore’...</td>\n      <td>[\"CBD\",\"Daniel Russo\",\"InnerG\",\"pipeline\"]</td>\n      <td>[\"Quickly access the spots you care about most...</td>\n    </tr>\n    <tr>\n      <th>1</th>\n      <td>Nov 2nd, 2020</td>\n      <td>Watch: Meet Kehu Butler, the 20-Year-Old Risin...</td>\n      <td>[]</td>\n      <td>[\"Quickly access the spots you care about most...</td>\n    </tr>\n    <tr>\n      <th>2</th>\n      <td>Oct 17th, 2020</td>\n      <td>With No 2020 Olympics, How're the Surfers Feel...</td>\n      <td>[\"ISA\",\"Jordy Smith\",\"Olympics\",\"sally fitzgib...</td>\n      <td>[\"Quickly access the spots you care about most...</td>\n    </tr>\n    <tr>\n      <th>3</th>\n      <td>Oct 13th, 2020</td>\n      <td>Watch Tom Carroll &amp; Matt Grainger Break Down T...</td>\n      <td>[]</td>\n      <td>[\"Quickly access the spots you care about most...</td>\n    </tr>\n    <tr>\n      <th>4</th>\n      <td>Jan 18th, 2021</td>\n      <td>A Powerful South and SSE Groundswell Is About ...</td>\n      <td>[]</td>\n      <td>[\"Quickly access the spots you care about most...</td>\n    </tr>\n  </tbody>\n</table>\n</div>"
     },
     "metadata": {},
     "execution_count": 13
    }
   ],
   "source": [
    "df = df[['date', 'title', 'tags_text', 'p_text']]\n",
    "df.head()"
   ]
  },
  {
   "cell_type": "code",
   "execution_count": 23,
   "metadata": {},
   "outputs": [
    {
     "output_type": "stream",
     "name": "stdout",
     "text": [
      "Datetime string example:\nNov 2nd, 2020\n"
     ]
    }
   ],
   "source": [
    "test_date = df['date'][1]\n",
    "print('Datetime string example:')\n",
    "print(df['date'][1])"
   ]
  },
  {
   "cell_type": "code",
   "execution_count": 42,
   "metadata": {},
   "outputs": [
    {
     "output_type": "execute_result",
     "data": {
      "text/plain": [
       "0                 []\n",
       "1      Nov 2nd, 2020\n",
       "2     Oct 17th, 2020\n",
       "3     Oct 13th, 2020\n",
       "4     Jan 18th, 2021\n",
       "           ...      \n",
       "80    Jan 15th, 2021\n",
       "81    Jan 15th, 2021\n",
       "82    Jan 17th, 2021\n",
       "83    Jan 18th, 2021\n",
       "84    Jan 15th, 2021\n",
       "Name: date, Length: 85, dtype: object"
      ]
     },
     "metadata": {},
     "execution_count": 42
    }
   ],
   "source": [
    "date_array = df['date']\n",
    "date_array"
   ]
  },
  {
   "cell_type": "code",
   "execution_count": 45,
   "metadata": {},
   "outputs": [],
   "source": [
    "# with open('new_file', 'w') as f_out, open('my_file') as f_in:\n",
    "#     for line in f_in:\n",
    "#         new_str = ','.join(line.split(',')[1:])\n",
    "#         f_out.write(new_str)\n",
    "import re\n",
    "# test_date.split(',')[:-1]\n",
    "characters_to_remove = ['st', 'nd', 'rd', 'th']\n",
    "dates = []\n",
    "for item in date_array:\n",
    "    for string in characters_to_remove:\n",
    "        pattern = '[' + string +']'\n",
    "        new = re.sub(pattern,\"\", item)\n",
    "        dates.append(new)\n",
    "\n",
    "    if item "
   ]
  },
  {
   "cell_type": "code",
   "execution_count": 82,
   "metadata": {},
   "outputs": [],
   "source": [
    "from dateutil.parser import parse\n",
    "\n",
    "dates = []\n",
    "for item in date_array:\n",
    "    try:\n",
    "        date = str(parse(item))\n",
    "        date2 = datetime.datetime.strptime(date, '%Y-%m-%d %H:%M:%S')\n",
    "        date3 = date2.strftime('%Y-%m-%d')\n",
    "        dates.append(date3)\n",
    "        # print(date2.date())\n",
    "    except:\n",
    "        dates.append('n/a')"
   ]
  },
  {
   "cell_type": "code",
   "execution_count": 83,
   "metadata": {},
   "outputs": [
    {
     "output_type": "execute_result",
     "data": {
      "text/plain": [
       "['n/a',\n",
       " '2020-11-02',\n",
       " '2020-10-17',\n",
       " '2020-10-13',\n",
       " '2021-01-18',\n",
       " '2021-01-15',\n",
       " '2021-01-13',\n",
       " '2021-01-11',\n",
       " '2021-01-19',\n",
       " '2021-01-18',\n",
       " 'n/a',\n",
       " '2021-01-15',\n",
       " 'n/a',\n",
       " 'n/a',\n",
       " 'n/a',\n",
       " 'n/a',\n",
       " '2018-02-20',\n",
       " '2018-02-19',\n",
       " '2018-02-17',\n",
       " '2018-02-08',\n",
       " '2021-01-13',\n",
       " '2020-12-31',\n",
       " 'n/a',\n",
       " 'n/a',\n",
       " '2020-12-31',\n",
       " '2020-12-21',\n",
       " '2020-12-22',\n",
       " '2020-12-16',\n",
       " 'n/a',\n",
       " 'n/a',\n",
       " 'n/a',\n",
       " 'n/a',\n",
       " '2020-11-06',\n",
       " '2020-09-21',\n",
       " '2020-08-13',\n",
       " '2020-08-11',\n",
       " '2019-11-23',\n",
       " '2019-11-07',\n",
       " '2019-10-31',\n",
       " '2019-09-12',\n",
       " '2019-03-08',\n",
       " '2019-01-04',\n",
       " '2018-10-11',\n",
       " '2018-09-12',\n",
       " '2020-09-08',\n",
       " '2017-06-15',\n",
       " '2019-09-01',\n",
       " '2021-01-04',\n",
       " '2020-10-01',\n",
       " '2020-09-26',\n",
       " 'n/a',\n",
       " '2019-07-23',\n",
       " '2020-08-24',\n",
       " '2018-07-22',\n",
       " '2018-06-30',\n",
       " '2018-06-29',\n",
       " '2019-07-09',\n",
       " '2019-04-11',\n",
       " '2019-04-22',\n",
       " '2019-08-23',\n",
       " '2021-01-04',\n",
       " '2020-01-29',\n",
       " '2021-01-13',\n",
       " '2020-09-08',\n",
       " '2019-09-01',\n",
       " '2020-12-29',\n",
       " '2019-04-02',\n",
       " 'n/a',\n",
       " '2020-12-01',\n",
       " '2021-01-18',\n",
       " '2021-01-18',\n",
       " '2021-01-12',\n",
       " '2021-01-06',\n",
       " '2021-01-19',\n",
       " '2021-01-18',\n",
       " '2021-01-18',\n",
       " '2021-01-18',\n",
       " 'n/a',\n",
       " '2020-01-29',\n",
       " '2021-01-15',\n",
       " '2021-01-15',\n",
       " '2021-01-15',\n",
       " '2021-01-17',\n",
       " '2021-01-18',\n",
       " '2021-01-15']"
      ]
     },
     "metadata": {},
     "execution_count": 83
    }
   ],
   "source": [
    "dates"
   ]
  },
  {
   "cell_type": "code",
   "execution_count": 80,
   "metadata": {},
   "outputs": [
    {
     "output_type": "execute_result",
     "data": {
      "text/plain": [
       "'2021-01-15'"
      ]
     },
     "metadata": {},
     "execution_count": 80
    }
   ],
   "source": [
    "obj = datetime.datetime.strptime(date, '%Y-%m-%d %H:%M:%S')\n",
    "obj.strftime('%Y-%m-%d')"
   ]
  },
  {
   "cell_type": "code",
   "execution_count": null,
   "metadata": {},
   "outputs": [],
   "source": []
  }
 ]
}