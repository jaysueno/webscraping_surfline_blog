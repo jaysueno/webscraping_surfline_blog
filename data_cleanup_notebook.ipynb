{
 "metadata": {
  "language_info": {
   "codemirror_mode": {
    "name": "ipython",
    "version": 3
   },
   "file_extension": ".py",
   "mimetype": "text/x-python",
   "name": "python",
   "nbconvert_exporter": "python",
   "pygments_lexer": "ipython3",
   "version": "3.8.3-final"
  },
  "orig_nbformat": 2,
  "kernelspec": {
   "name": "python3",
   "display_name": "Python 3",
   "language": "python"
  }
 },
 "nbformat": 4,
 "nbformat_minor": 2,
 "cells": [
  {
   "source": [
    "# Data Cleanup"
   ],
   "cell_type": "markdown",
   "metadata": {}
  },
  {
   "cell_type": "code",
   "execution_count": 14,
   "metadata": {},
   "outputs": [
    {
     "output_type": "stream",
     "name": "stderr",
     "text": [
      "[nltk_data] Downloading package stopwords to\n[nltk_data]     C:\\Users\\jaysu\\AppData\\Roaming\\nltk_data...\n[nltk_data]   Package stopwords is already up-to-date!\n[nltk_data] Downloading package punkt to\n[nltk_data]     C:\\Users\\jaysu\\AppData\\Roaming\\nltk_data...\n[nltk_data]   Package punkt is already up-to-date!\n"
     ]
    },
    {
     "output_type": "execute_result",
     "data": {
      "text/plain": [
       "True"
      ]
     },
     "metadata": {},
     "execution_count": 14
    }
   ],
   "source": [
    "import pandas as pd\n",
    "import re\n",
    "import datetime\n",
    "# Use nltk for tokenizer and stopwords removal\n",
    "import nltk\n",
    "from nltk.corpus import stopwords\n",
    "nltk.download('stopwords')\n",
    "from nltk.tokenize import word_tokenize\n",
    "nltk.download('punkt')"
   ]
  },
  {
   "cell_type": "code",
   "execution_count": 107,
   "metadata": {},
   "outputs": [],
   "source": [
    "df = pd.read_csv('data/surfline_news_scrape.csv')"
   ]
  },
  {
   "cell_type": "code",
   "execution_count": 122,
   "metadata": {},
   "outputs": [
    {
     "output_type": "execute_result",
     "data": {
      "text/plain": [
       "(86, 4)"
      ]
     },
     "metadata": {},
     "execution_count": 122
    }
   ],
   "source": [
    "df = df[['date', 'title', 'tags_text', 'p_text']]\n",
    "df.shape"
   ]
  },
  {
   "cell_type": "code",
   "execution_count": 124,
   "metadata": {},
   "outputs": [
    {
     "output_type": "execute_result",
     "data": {
      "text/plain": [
       "0                 []\n",
       "1      Nov 2nd, 2020\n",
       "2     Oct 17th, 2020\n",
       "3     Oct 13th, 2020\n",
       "4     Jan 18th, 2021\n",
       "           ...      \n",
       "81    Jan 15th, 2021\n",
       "82    Jan 17th, 2021\n",
       "83    Jan 18th, 2021\n",
       "84    Jan 15th, 2021\n",
       "85               NaN\n",
       "Name: date, Length: 86, dtype: object"
      ]
     },
     "metadata": {},
     "execution_count": 124
    }
   ],
   "source": [
    "df['date']"
   ]
  },
  {
   "cell_type": "code",
   "execution_count": 23,
   "metadata": {},
   "outputs": [
    {
     "output_type": "stream",
     "name": "stdout",
     "text": [
      "Datetime string example:\nNov 2nd, 2020\n"
     ]
    }
   ],
   "source": [
    "test_date = df['date'][1]\n",
    "print('Datetime string example:')\n",
    "print(df['date'][1])"
   ]
  },
  {
   "cell_type": "code",
   "execution_count": 125,
   "metadata": {},
   "outputs": [
    {
     "output_type": "execute_result",
     "data": {
      "text/plain": [
       "0                 []\n",
       "1      Nov 2nd, 2020\n",
       "2     Oct 17th, 2020\n",
       "3     Oct 13th, 2020\n",
       "4     Jan 18th, 2021\n",
       "           ...      \n",
       "81    Jan 15th, 2021\n",
       "82    Jan 17th, 2021\n",
       "83    Jan 18th, 2021\n",
       "84    Jan 15th, 2021\n",
       "85               NaN\n",
       "Name: date, Length: 86, dtype: object"
      ]
     },
     "metadata": {},
     "execution_count": 125
    }
   ],
   "source": [
    "date_array = df['date']\n",
    "date_array"
   ]
  },
  {
   "cell_type": "code",
   "execution_count": 126,
   "metadata": {},
   "outputs": [],
   "source": [
    "from dateutil.parser import parse\n",
    "\n",
    "dates = []\n",
    "for item in date_array:\n",
    "    try:\n",
    "        date = str(parse(item))\n",
    "        date2 = datetime.datetime.strptime(date, '%Y-%m-%d %H:%M:%S')\n",
    "        date3 = date2.strftime('%Y-%m-%d')\n",
    "        dates.append(date3)\n",
    "        # print(date2.date())\n",
    "    except:\n",
    "        dates.append('n/a')\n",
    "\n",
    "article_date = {'article_date': dates}"
   ]
  },
  {
   "cell_type": "code",
   "execution_count": 127,
   "metadata": {},
   "outputs": [
    {
     "output_type": "execute_result",
     "data": {
      "text/plain": [
       "86"
      ]
     },
     "metadata": {},
     "execution_count": 127
    }
   ],
   "source": [
    "len(dates)"
   ]
  },
  {
   "cell_type": "code",
   "execution_count": 128,
   "metadata": {},
   "outputs": [],
   "source": [
    "df['dates'] = dates"
   ]
  },
  {
   "cell_type": "code",
   "execution_count": 131,
   "metadata": {},
   "outputs": [
    {
     "output_type": "execute_result",
     "data": {
      "text/plain": [
       "         dates                                              title  \\\n",
       "0          n/a  Russo Cam: A watery look into the North Shore’...   \n",
       "1   2020-11-02  Watch: Meet Kehu Butler, the 20-Year-Old Risin...   \n",
       "2   2020-10-17  With No 2020 Olympics, How're the Surfers Feel...   \n",
       "3   2020-10-13  Watch Tom Carroll & Matt Grainger Break Down T...   \n",
       "4   2021-01-18  A Powerful South and SSE Groundswell Is About ...   \n",
       "..         ...                                                ...   \n",
       "81  2021-01-15  How Will Jaws Stack Up? Comparing Pe’ahi‘s Gre...   \n",
       "82  2021-01-17  Replay: Live From Jaws and Waimea on Super Swe...   \n",
       "83  2021-01-18                        R.I.P. Ben Aipa (1942-2021)   \n",
       "84  2021-01-15  A Ripping New Rage Vid, Pete Mel's Stoke Is Ev...   \n",
       "85         n/a                                                NaN   \n",
       "\n",
       "                                               p_text  \\\n",
       "0   [\"Quickly access the spots you care about most...   \n",
       "1   [\"Quickly access the spots you care about most...   \n",
       "2   [\"Quickly access the spots you care about most...   \n",
       "3   [\"Quickly access the spots you care about most...   \n",
       "4   [\"Quickly access the spots you care about most...   \n",
       "..                                                ...   \n",
       "81  [\"Quickly access the spots you care about most...   \n",
       "82  [\"Quickly access the spots you care about most...   \n",
       "83  [\"Quickly access the spots you care about most...   \n",
       "84  [\"Quickly access the spots you care about most...   \n",
       "85                                                NaN   \n",
       "\n",
       "                                            tags_text  \n",
       "0          [\"CBD\",\"Daniel Russo\",\"InnerG\",\"pipeline\"]  \n",
       "1                                                  []  \n",
       "2   [\"ISA\",\"Jordy Smith\",\"Olympics\",\"sally fitzgib...  \n",
       "3                                                  []  \n",
       "4                                                  []  \n",
       "..                                                ...  \n",
       "81                                           [\"Jaws\"]  \n",
       "82                           [\"Jaws\",\"surfline live\"]  \n",
       "83            [\"Ben Aipa\",\"Hawaii\",\"r.i.p.\",\"shaper\"]  \n",
       "84                                                 []  \n",
       "85                                                NaN  \n",
       "\n",
       "[86 rows x 4 columns]"
      ],
      "text/html": "<div>\n<style scoped>\n    .dataframe tbody tr th:only-of-type {\n        vertical-align: middle;\n    }\n\n    .dataframe tbody tr th {\n        vertical-align: top;\n    }\n\n    .dataframe thead th {\n        text-align: right;\n    }\n</style>\n<table border=\"1\" class=\"dataframe\">\n  <thead>\n    <tr style=\"text-align: right;\">\n      <th></th>\n      <th>dates</th>\n      <th>title</th>\n      <th>p_text</th>\n      <th>tags_text</th>\n    </tr>\n  </thead>\n  <tbody>\n    <tr>\n      <th>0</th>\n      <td>n/a</td>\n      <td>Russo Cam: A watery look into the North Shore’...</td>\n      <td>[\"Quickly access the spots you care about most...</td>\n      <td>[\"CBD\",\"Daniel Russo\",\"InnerG\",\"pipeline\"]</td>\n    </tr>\n    <tr>\n      <th>1</th>\n      <td>2020-11-02</td>\n      <td>Watch: Meet Kehu Butler, the 20-Year-Old Risin...</td>\n      <td>[\"Quickly access the spots you care about most...</td>\n      <td>[]</td>\n    </tr>\n    <tr>\n      <th>2</th>\n      <td>2020-10-17</td>\n      <td>With No 2020 Olympics, How're the Surfers Feel...</td>\n      <td>[\"Quickly access the spots you care about most...</td>\n      <td>[\"ISA\",\"Jordy Smith\",\"Olympics\",\"sally fitzgib...</td>\n    </tr>\n    <tr>\n      <th>3</th>\n      <td>2020-10-13</td>\n      <td>Watch Tom Carroll &amp; Matt Grainger Break Down T...</td>\n      <td>[\"Quickly access the spots you care about most...</td>\n      <td>[]</td>\n    </tr>\n    <tr>\n      <th>4</th>\n      <td>2021-01-18</td>\n      <td>A Powerful South and SSE Groundswell Is About ...</td>\n      <td>[\"Quickly access the spots you care about most...</td>\n      <td>[]</td>\n    </tr>\n    <tr>\n      <th>...</th>\n      <td>...</td>\n      <td>...</td>\n      <td>...</td>\n      <td>...</td>\n    </tr>\n    <tr>\n      <th>81</th>\n      <td>2021-01-15</td>\n      <td>How Will Jaws Stack Up? Comparing Pe’ahi‘s Gre...</td>\n      <td>[\"Quickly access the spots you care about most...</td>\n      <td>[\"Jaws\"]</td>\n    </tr>\n    <tr>\n      <th>82</th>\n      <td>2021-01-17</td>\n      <td>Replay: Live From Jaws and Waimea on Super Swe...</td>\n      <td>[\"Quickly access the spots you care about most...</td>\n      <td>[\"Jaws\",\"surfline live\"]</td>\n    </tr>\n    <tr>\n      <th>83</th>\n      <td>2021-01-18</td>\n      <td>R.I.P. Ben Aipa (1942-2021)</td>\n      <td>[\"Quickly access the spots you care about most...</td>\n      <td>[\"Ben Aipa\",\"Hawaii\",\"r.i.p.\",\"shaper\"]</td>\n    </tr>\n    <tr>\n      <th>84</th>\n      <td>2021-01-15</td>\n      <td>A Ripping New Rage Vid, Pete Mel's Stoke Is Ev...</td>\n      <td>[\"Quickly access the spots you care about most...</td>\n      <td>[]</td>\n    </tr>\n    <tr>\n      <th>85</th>\n      <td>n/a</td>\n      <td>NaN</td>\n      <td>NaN</td>\n      <td>NaN</td>\n    </tr>\n  </tbody>\n</table>\n<p>86 rows × 4 columns</p>\n</div>"
     },
     "metadata": {},
     "execution_count": 131
    }
   ],
   "source": [
    "df = df[['dates', 'title', 'p_text', 'tags_text']]\n",
    "df"
   ]
  },
  {
   "source": [
    "# Clean News Article Copy"
   ],
   "cell_type": "markdown",
   "metadata": {}
  },
  {
   "cell_type": "code",
   "execution_count": 198,
   "metadata": {
    "tags": [
     "outputPrepend"
    ]
   },
   "outputs": [
    {
     "output_type": "stream",
     "name": "stdout",
     "text": [
      "conds', 'The', 'weekend', 'swell', 'is', 'around', '10', 'smaller', 'with', 'slightly', 'less', 'consistent', 'surf', 'than', 'we', 'saw', 'back', 'in', '2018', 'It', 's', 'pretty', 'cool', 'that', 'the', 'upcoming', 'swell', 'arrives', 'nearly', 'five', 'years', 'to', 'the', 'day', 'after', 'the', 'epic', 'El', 'Nino', 'fueled', 'swell', 'of', '2016', 'one', 'of', 'a', 'handful', 'over', 'an', 'eight', 'week', 'period', 'The', 'Pauwela', 'buoy', 'topped', 'out', 'an', 'incredible', '19', '20', 'at', '18', '19', 'seconds', 'on', 'this', 'swell', 'for', 'some', 'of', 'the', 'largest', 'surf', 'of', 'the', 'last', '20', 'years', 'High', 'Res', 'Wind', 'Forecast', 'Oahu', 'Maui', 'What', 'made', 'this', 'swell', 'especially', 'memorable', 'were', 'the', 'conditions', 'Jaws', 'regularly', 'sees', 'side', 'offshore', 'wind', 'in', 'the', '20', 'knot', 'or', 'stronger', 'range', 'but', 'this', 'day', 'was', 'different', 'A', 'front', 'passing', 'to', 'the', 'north', 'set', 'up', 'just', 'weak', 'trades', 'and', 'glassy', 'conditions', 'allowing', 'for', 'Mr', 'Gold', 'and', 'others', 'to', 'paddle', 'into', 'the', '60', '70', 'beasts', 'The', 'weekend', 'swell', 's', 'at', 'least', '10', '20', 'smaller', 'with', 'much', 'breezier', 'and', 'more', 'challenging', 'paddle', 'conditions', 'than', 'we', 'saw', 'back', 'in', '2018', 'though', 'there', 'is', 'a', 'front', 'moving', 'through', 'late', 'in', 'the', 'day', 'which', 'could', 'cause', 'wind', 'to', 'ease', 'Updates', 'from', 'Jaws', 'Waimea', 'Pipeline', 'Mavs', 'and', 'more', 'Showcasing', 'the', 'best', 'moments', 'from', 'Super', 'Swell', 'Saturday', 'Helicopter', 'footage', 'of', 'the', 'biggest', 'day', 'of', 'the', 'year', 'Strong', 'WNW', 'swells', 'periods', 'of', 'offshore', 'wind', 'in', 'the', 'next', 'few', 'days', 'before', 'the', 'NPAC', 'finally', 'slows', 'down', 'late', 'month', 'Weeks', 'of', 'solid', 'to', 'XL', 'surf', 'starts', 'up', 'for', 'North', 'Shore', 'then', 'Northern', 'California', 'Here', 's', 'where', 'December', '8th', '2020', 'lands', 'from', 'the', 'numbers']\n['Saturday', 'afternoon', 'as', 'the', 'bombing', 'northwest', 'swell', 'was', 'peaking', 'at', 'Jaws', 'we', 'sent', 'up', 'a', 'helicopter', 'to', 'capture', 'the', 'action', 'Hit', 'play', 'above', 'to', 'watch', 'the', 'carnage', 'narrated', 'by', 'Mike', 'Parsons', 'and', 'Surfline', 's', 'Director', 'of', 'Forecasting', 'Kevin', 'Wallis', 'And', 'click', 'here', 'for', 'more', 'highlights', 'from', 'the', 'day', 'Showcasing', 'the', 'best', 'moments', 'from', 'Super', 'Swell', 'Saturday', 'Featuring', 'XXL', 'Jaws', 'Oahu', 's', 'Outer', 'Reefs', 'and', 'Waimea', 'Bay', 'Some', 'of', 'the', 'best', 'and', 'scariest', 'moments', 'from', 'one', 'of', 'the', 'biggest', 'and', 'scariest', 'Maverick', 's', 'days', 'in', 'years', 'Grant', 'Baker', 'breaks', 'down', 'a', 'less', 'than', 'stellar', 'Mav', 's', 'session', 'The', 'best', 'photos', 'from', 'the', 'another', 'amazing', 'week', 'in', 'Hawaii', 'and', 'California', 'Featuring', 'Pete', 'Mel', 'Twiggy', 'Justine', 'Dupont', 'Luca', 'Padua', 'and', 'more']\n['When', 'Ben', 'Aipa', 's', 'big', 'heart', 'finally', 'stopped', 'beating', 'on', 'Friday', 'January', '15th', 'after', 'the', 'man', 'succumbed', 'to', 'multiple', 'health', 'issues', 'including', 'heart', 'problems', 'diabetes', 'strokes', 'and', 'dementia', 'the', 'surfing', 'world', 'lost', 'one', 'of', 'its', 'most', 'remarkable', 'characters', 'and', 'in', 'some', 'ways', 'one', 'of', 'its', 'least', 'appreciated', 'Not', 'due', 'to', 'any', 'lack', 'of', 'respect', 'Ben', 'commanded', 'respect', 'without', 'even', 'asking', 'for', 'it', 'from', 'the', 'moment', 'he', 'first', 'took', 'to', 'the', 'waves', 'at', 'Waikiki', 'as', 'a', 'burly', '23', 'year', 'old', 'But', 'he', 'wasn', 't', 'exactly', 'shy', 'No', 'other', 'three', 'letter', 'athlete', 'from', 'Farrington', 'High', 'semi', 'pro', 'football', 'player', 'and', 'blue', 'collar', 'truck', 'driver', 'could', 'get', 'by', 'without', 'occasionally', 'puffing', 'a', 'few', 'lips', 'let', 'alone', 'learn', 'to', 'surf', 'in', 'Hawaii', 'as', 'a', 'full', 'fledged', 'adult', 'Ben', 'Aipa', 'power', 'incarnate', 'at', 'Haleiwa', '1980', 'Photo', 'Jeff', 'Divine', 'No', 'Ben', 'has', 'always', 'received', 'respect', 'in', 'full', 'measure', 'It', 's', 'the', 'widespread', 'appreciation', 'for', 'his', 'vast', 'contributions', 'to', 'the', 'surfing', 'universe', 'that', 's', 'lagged', 'lag', 'behind', 'as', 'Ben', 's', 'name', 'while', 'revered', 'in', 'knowing', 'circles', 'is', 'seldom', 'included', 'in', 'a', 'generic', 'list', 'of', 'surfing', 'greats', 'I', 'believe', 'this', 'is', 'because', 'Ben', 'Aipa', 'remained', 'such', 'a', 'vital', 'contemporary', 'force', 'throughout', 'his', 'life', 'that', 'he', 'couldn', 't', 'be', 'assigned', 'to', 'any', 'particular', 'era', 'the', 'way', 'legendary', 'surfers', 'so', 'often', 'are', 'In', 'the', 'same', 'way', 'that', 'his', 'fingerprints', 'have', 'been', 'on', 'so', 'many', 'of', 'our', 'boards', 'for', 'the', 'last', 'half', 'century', 'that', 'due', 'credit', 'has', 'become', 'diluted', 'Make', 'no', 'mistake', 'Ben', 'Aipa', 'was', 'one', 'of', 'the', 'greats', 'yet', 'explanations', 'to', 'exactly', 'what', 'makes', 'him', 'one', 'of', 'the', 'greats', 'rarely', 'point', 'beyond', 'what', 'most', 'regard', 'as', 'Aipa', 's', 'crowning', 'achievement', 'the', 'invention', 'of', 'the', 'exaggerated', 'wing', 'swallowtail', 'surfboard', 'design', 'in', 'the', 'mid', '70s', 'known', 'as', 'the', 'Sting', 'That', 'perception', 'barely', 'captures', 'the', 'scope', 'of', 'Ben', 'Aipa', 's', 'high', 'points', 'on', 'modern', 'surfing', 's', 'timeline', 'which', 'beginning', 'in', 'the', 'mid', '1960s', 'include', 'becoming', 'Hawaii', 's', 'first', 'truly', 'modern', 'high', 'performance', 'surfer', 'who', 'developed', 'a', 'bold', 'style', 'of', 'carving', 'powerful', 'full', 'rail', 'turns', 'in', 'both', 'big', 'waves', 'and', 'small', 'on', 'surfboards', 'long', 'and', 'short', 'that', 'by', 'any', 'standard', 'would', 'define', 'futuristic', 'Ben', 'still', 'on', 'top', 'well', 'into', 'old', 'age', 'Photo', 'Zak', 'Noyle', 'To', 'get', 'some', 'idea', 'of', 'how', 'prescient', 'Aipa', 's', 'approach', 'was', 'watch', 'MacGillivray', 'Freeman', 's', 'classic', '1972', 'surf', 'film', 'Five', 'Summer', 'Stories', 'The', 'movie', 'features', 'all', 'the', 'big', 'stars', 'of', 'the', 'day', 'highlighting', 'guys', 'like', 'Gerry', 'Lopez', 'Barry', 'Kanaiaupuni', 'Jeff', 'Hakman', 'and', 'Terry', 'Fitzgerald', 'cutting', 'loose', 'in', 'North', 'Shore', 'juice', 'on', 'their', 'narrow', 'spears', 'Yet', 'in', 'a', 'segment', 'decrying', 'the', 'period', 's', 'tone', 'deaf', 'competitive', 'scene', 'Ben', 'Aipa', 'is', 'shown', 'surfing', 'head', 'high', 'waves', 'during', 'the', '1971', 'Makaha', 'Championships', 'While', 'MacFree', 's', 'narration', 'seemed', 'to', 'point', 'to', 'Aipa', 's', 'performance', 'as', 'an', 'example', 'of', 'how', 'competitive', 'surfers', 'must', 'prostitute', 'their', 'art', 'this', 'was', 'the', 'early', '70s', 'after', 'all', 'when', 'viewed', 'today', 'Aipa', 's', 'surfing', 'looks', 'to', 'belong', 'to', 'another', 'era', 'entirely', 'a', 'more', 'modern', 'one', 'that', 'applauds', 'the', 'sort', 'of', 'nimble', 'powerful', 'figure', 'eight', 'maneuvering', 'on', 'display', 'On', 'a', 'visibly', 'thicker', 'wider', 'board', 'Aipa', 'seems', 'to', 'coil', 'then', 'spring', 'out', 'of', 'his', 'turns', 'accelerating', 'up', 'the', 'face', 'and', 'then', 'carving', 'back', 'into', 'the', 'curl', 'without', 'any', 'loss', 'of', 'speed', 'evident', 'in', 'footage', 'of', 'his', 'contemporaries', 'riding', 'their', 'parallel', 'railed', 'pocket', 'rockets', 'In', 'fact', 'in', 'terms', 'of', 'surfboard', 'design', 'he', 's', 'been', 'one', 'of', 'the', 'sport', 's', 'most', 'influential', 'shapers', 'Not', 'merely', 'for', 'the', 'Sting', 'the', 'innovative', 'small', 'wave', 'performance', 'board', 'that', 'freed', '70s', 'surfers', 'from', 'the', 'often', 'restrictive', 'grip', 'of', 'those', 'sleek', 'Brewer', 'and', 'Parrish', 'pintails', 'that', 'worked', 'so', 'well', 'in', 'double', 'overhead', 'surf', 'but', 'also', 'for', 'the', 'development', 'and', 'refinement', 'of', 'not', 'one', 'but', 'two', 'of', 'the', 'most', 'pervasive', 'surfboard', 'designs', 'in', 'history', 'both', 'of', 'which', 'you', 'll', 'probably', 'see', 'the', 'next', 'time', 'you', 'go', 'surfing', 'the', 'swallowtail', 'and', 'the', 'modern', '2', '1', 'longboard', 'And', 'he', 'served', 'by', 'example', 'on', 'all', 'of', 'them', 'As', 'a', 'competitor', 'he', 'bracketed', 'the', 'generations', 'like', 'no', 'other', 'surfer', 'before', 'or', 'since', 'having', 'paddled', 'out', 'in', 'a', 'jersey', 'against', 'Ricky', 'Grigg', 'and', 'Greg', 'Noll', 'in', 'the', '1966', 'Duke', 'Kahanamoku', 'Invitational', 'at', 'Sunset', 'Beach', 'and', 'against', 'Peter', 'Townend', 'and', 'Tom', 'Carroll', 'in', 'the', '1980', 'Straight', 'Talk', 'Open', 'in', 'Cronulla', 'Australia', 'Not', 'to', 'mention', 'hefting', 'so', 'many', 'senior', 'and', 'grandmasters', 'amateur', 'trophies', 'throughout', 'the', '80s', 'and', '90s', 'that', 'there', 'were', 'no', 'longer', 'any', 'divisions', 'left', 'for', 'him', 'to', 'win', 'Ben', 'Aipa', 'was', 'simply', 'the', 'hottest', 'surfer', 'of', 'his', 'age', 'throughout', 'every', 'age', 'of', 'his', 'life', 'Unlike', 'so', 'many', 'other', 'surf', 'stars', 'however', 'Aipa', 's', 'contributions', 'always', 'seemed', 'to', 'be', 'turned', 'outward', 'Over', 'the', 'years', 'Ben', 'shared', 'all', 'his', 'competitive', 'knowledge', 'as', 'the', 'sport', 's', 'first', 'and', 'most', 'successful', 'mentor', 'and', 'coach', 'guiding', 'charges', 'to', 'finals', 'berths', 'at', 'the', '1972', 'World', 'Contest', 'and', '38', 'years', 'later', 'at', 'the', '2012', 'ISA', 'World', 'Championships', 'Those', 'surfers', 'whose', 'careers', 'and', 'lives', 'flourished', 'under', 'his', 'tough', 'love', 'span', 'the', 'eras', 'Larry', 'Bertlemann', 'Mark', 'Liddell', 'Buttons', 'Kaluhiokalani', 'Sunny', 'Garcia', 'Brad', 'Gerlach', 'Conan', 'Hayes', 'Kalani', 'Robb', 'Andy', 'and', 'Bruce', 'Irons', 'Alex', 'and', 'Koa', 'Smith', 'and', 'Bethany', 'Hamilton', 'This', 'maneuver', 'should', 've', 'been', 'called', 'an', 'Aipa', 'from', 'the', 'start', 'Photo', 'Dan', 'Merkel', 'A', 'Frame', 'In', 'fact', 'upon', 'winning', 'the', 'Women', 's', 'Explorer', 'Division', 'at', 'the', '2005', 'NSSA', 'National', 'Championships', 'only', '24', 'months', 'after', 'a', 'shark', 'attack', 'took', 'her', 'left', 'arm', 'Bethany', 'kept', 'her', 'acceptance', 'speech', 'succinct', 'I', 'want', 'to', 'thank', 'God', 'and', 'Ben', 'Aipa', 'In', 'that', 'order', 'Which', 'is', 'only', 'proper', 'We', 'should', 'all', 'be', 'as', 'grateful', 'that', 'against', 'all', 'conventional', 'wisdom', '23', 'year', 'old', 'Ben', 'Aipa', 'decided', 'to', 'take', 'up', 'surfing', 'The', 'big', 'Hawaiian', 'more', 'than', 'made', 'up', 'for', 'those', 'lost', 'years', 'with', 'ensuing', 'decades', 'of', 'unflagging', 'devotion', 'commitment', 'and', 'imagination', 'to', 'the', 'sport', 'he', 'loved', 'so', 'fiercely', 'leaving', 'the', 'surfing', 'world', 'so', 'much', 'better', 'for', 'having', 'shared', 'that', 'passion', 'with', 'us', 'Showcasing', 'the', 'best', 'moments', 'from', 'Super', 'Swell', 'Saturday', 'Helicopter', 'footage', 'of', 'the', 'biggest', 'day', 'of', 'the', 'year', 'Featuring', 'XXL', 'Jaws', 'Oahu', 's', 'Outer', 'Reefs', 'and', 'Waimea', 'Bay', 'The', 'best', 'photos', 'from', 'the', 'another', 'amazing', 'week', 'in', 'Hawaii', 'and', 'California', 'Some', 'of', 'the', 'best', 'and', 'scariest', 'moments', 'from', 'one', 'of', 'the', 'biggest', 'and', 'scariest', 'Maverick', 's', 'days', 'in', 'years', 'Grant', 'Baker', 'breaks', 'down', 'a', 'less', 'than', 'stellar', 'Mav', 's', 'session']\n['1', 'Mavericks', 'Has', 'Been', 'Ever', 'So', 'Ridiculous', 'and', 'Pete', 'Mel', 'Has', 'Been', 'Rad', 'I', 'don', 't', 'even', 'know', 'what', 'to', 'say', 'any', 'more', 'Feels', 'like', 'every', 'week', 'this', 'season', 'our', 'brains', 'get', 'a', 'little', 'more', 'blown', 'by', 'increasingly', 'ridiculous', 'swells', 'hitting', 'California', 'and', 'or', 'Hawaii', 'To', 'start', 'just', 'on', 'a', 'week', 'ago', 'Pete', 'Mel', 'paddled', 'into', 'what', 'people', 'are', 'calling', 'the', 'wave', 'of', 'the', 'decade', 'at', 'Maverick', 's', 'This', 'is', 'right', 'on', 'a', 'month', 'after', 'one', 'of', 'the', 'best', 'days', 'in', 'living', 'memory', 'at', 'the', 'place', 'back', 'on', 'December', '8', 'There', 's', 'something', 'about', 'the', 'stoke', 'of', 'Pete', 'Mel', 'throughout', 'these', 'swells', 'and', 'these', 'performances', 'it', 's', 'impossible', 'not', 'to', 'be', 'caught', 'up', 'in', 'it', 'all', 'with', 'him', 'Stoke', 'is', 'infectious', 'isn', 't', 'it', 'And', 'if', 'someone', 's', 'gonna', 'get', 'the', 'wave', 'of', 'the', 'decade', 'it', 's', 'rad', 'that', 'it', 's', 'this', 'guy', '2', 'And', 'Then', 'It', 'Got', 'Even', 'Bigger', 'To', 'follow', 'that', 'just', 'two', 'days', 'later', 'Mavericks', 'upped', 'the', 'ante', 'again', 'and', 'pushed', 'the', 'mindblowingness', 'to', 'even', 'further', 'levels', 'To', 'get', 'the', 'full', 'goosebump', 'vibes', 'of', 'the', 'session', 'you', 'should', 'really', 'check', 'out', 'this', 'gallery', 'from', 'the', 'day', '3', 'And', 'One', 'More', 'Mavs', 'Thing', 'This', 'Wipe', 'Out', 'South', 'African', 'hellman', 'Grant', 'Twiggy', 'Baker', 'paddled', 'into', 'a', 'beast', 'on', 'that', 'faithful', 'Maverick', 's', 'Sunday', 'which', 'then', 'forced', 'him', 'into', 'attempting', 'the', 'biggest', 'airdrop', 'of', 'all', 'time', 'Maverick', 's', 'has', 'been', 'so', 'good', 'to', 'me', 'over', 'the', 'years', 'reflected', 'Twiggy', 'And', 'you', 'know', 'what', 'I', 'think', 'I', 'was', 'just', 'too', 'over', 'confident', 'today', 'Watch', 'Twiggy', 'break', 'down', 'possibly', 'the', 'wipe', 'out', 'of', 'the', 'year', 'over', 'here', '4', 'The', 'Burleigh', 'Boardriders', 'Single', 'Fin', 'Classic', 'Always', 'one', 'of', 'the', 'highlights', 'of', 'the', 'year', 'when', 'the', 'likes', 'of', 'Parko', 'Occy', 'and', 'more', 'converge', 'on', 'the', 'headland', 'of', 'Burleigh', 'Heads', 'with', 'beautiful', 'and', 'not', 'so', 'beautiful', 'boards', 'to', 'compete', 'in', 'the', 'Burleigh', 'Boardriders', 'Single', 'Fin', 'Festival', 'This', 'year', 'it', 'was', 'Coolangatta', 's', 'Quinn', 'Bruce', 'who', 'won', 'the', 'Open', 'Men', 's', 'part', 'of', 'the', 'event', 'while', 'Dimity', 'Stoyle', 'rode', 'an', 'MR', 'single', 'fin', 'to', 'her', 'second', 'consecutive', 'Open', 'Women', 's', 'win', '1997', 'Bells', 'winner', 'turned', 'back', 'the', 'clock', 'to', 'take', 'out', 'the', 'Masters', 'and', 'for', 'the', 'Juniors', 'it', 'was', 'Currumbin', 's', 'Ty', 'Richardson', 'defending', 'his', 'title', 'See', 'more', 'photos', 'from', 'the', 'event', 'over', 'here', '5', 'A', 'New', 'Rage', 'Surf', 'Vid', 'Homegrown', 'Australian', 'surfer', 'run', 'surf', 'accessory', 'brand', 'deck', 'grip', 'and', 'leggies', 'Rage', 'release', 'another', 'of', 'their', 'unreal', '10', 'minute', 'surf', 'videos', 'this', 'one', 'starring', 'Creed', 'McTaggart', 'Noa', 'Deane', 'Shaun', 'Manners', 'Beau', 'Foster', 'and', 'Jake', 'Vincent', 'in', 'West', 'Aus', 'for', 'the', 'most', 'part', 'I', 'think', 'There', 's', 'some', 'wonderful', 'surfing', 'in', 'here', 'cut', 'together', 'by', 'the', 'perenmially', 'underrated', 'filmmaker', 'Toby', 'Cregan', 'And', 'by', 'the', 'time', 'the', 'credits', 'roll', 'to', 'Apology', 'Accepted', 'by', 'the', 'Go', 'Betweens', 'you', 're', 'left', 'feeling', 'like', 'Australian', 'surfing', 'with', 'or', 'without', 'the', 'WSL', 'is', 'in', 'a', 'pretty', 'great', 'place', 'If', 'we', 'get', 'freesurfing', 'movies', 'like', 'this', 'on', 'the', 'regular', 'it', 'is', 'anyway', '6', 'The', 'Best', 'of', 'Italo', 's', 'Hawaiian', 'Season', 'Italo', 'was', 'in', 'Hawaii', 'for', '45', 'days', 'and', 'he', 's', 'thankfully', 'squashed', 'the', 'best', 'of', 'all', 'those', 'days', 'into', '7', 'high', 'energy', 'minutes', 'of', 'insane', 'surfing', 'on', 'the', 'North', 'Shore', 'of', 'Oahu', 'The', 'cuts', 'and', 'the', 'zooms', 'and', 'the', 'music', 'and', 'the', 'everything', 'about', 'this', 'video', 'gee', 'I', 'm', 'not', 'sure', 'I', 've', 'seen', 'editing', 'choices', 'better', 'capture', 'the', 'essence', 'of', 'a', 'surfer', 'Top', 'work', 'all', 'around', 'here', 'I', 'need', 'a', 'lie', 'down', '7', 'How', 'To', 'Survive', 'the', 'Impact', 'Zone', 'Speaking', 'of', 'hanging', 'around', 'the', 'North', 'Shore', 'Koa', 'Smith', 'has', 'swum', 'himself', 'into', 'a', 'heavy', 'shorebreak', 'to', 'help', 'illustrate', 'what', 'you', 'should', 'do', 'when', 'a', 'wave', 'breaks', 'here', 'and', 'you', 'are', 'there', 'and', 'you', 're', 'gonna', 'get', 'drilled', 'It', 's', 'a', 'neat', 'little', 'educational', 'video', 'but', 'it', 's', 'also', 'quite', 'interesting', 'to', 'see', 'what', 'pro', 'surfers', 'will', 'be', 'doing', 'throughout', 'the', '2020s', 'in', 'the', 'pursuit', 'of', 'surf', 'content', 'Not', 'surfing', 'Getting', 'smacked', 'in', 'the', 'shorebreak', 'We', 'll', 'keep', 'an', 'eye', 'on', 'this', 'ongoing', 'surfer', 'content', 'machine', 'evolution', 'and', 'report', 'back', 'in', '2030', '8', 'Hanging', 'Out', 'With', 'Reef', 'Heazlewood', 'Onboard', 'Store', 's', 'YouTube', 'hang', 'out', 'series', 'What', 's', 'Going', 'On', 'has', 'been', 'really', 'nice', 'We', 've', 'seen', 'Wade', 'Goodall', 'Soli', 'Bailey', 'Pat', 'Gudauskas', 'and', 'now', 'this', 'week', 'we', 'get', 'Reef', 'Heazlewood', 'talking', 'surfboards', 'dealing', 'with', 'being', 'dropped', 'by', 'sponsors', 'and', 'doing', 'crazy', 'airs', 'amongst', 'other', 'things', 'The', 'only', 'problem', 'with', 'this', 'show', 'is', 'its', 'frequency', 'two', 'months', 'between', 'episodes', 'Give', 'us', 'more', '9', 'A', 'Vans', 'Triple', 'Crown', 'Update', 'Sweet', 'the', 'WSL', 'have', 'compiled', 'the', '5', 'Top', 'Scoring', 'Rides', 'from', 'the', 'Triple', 'Crown', 'this', 'year', 'No', 'it', 's', 'not', 'the', 'same', 'in', 'this', 'all', 'digital', 'format', 'but', 'at', 'least', 'it', 's', 'something', 'What', 'a', 'shame', 'we', 'didn', 't', 'get', 'to', 'see', 'Bronte', 'Macaulay', 'smash', 'Sunset', 'And', 'what', 'a', 'shame', 'we', 'didn', 't', 'get', 'to', 'see', 'John', 'John', 'put', 'on', 'a', 'Margaret', 'River', 'Pro', 'like', 'performance', 'out', 'there', 'too', '10', 'Maverick', 's', 'on', 'Skis', 'I', 'lied', 'when', 'I', 'said', 'we', 'were', 'done', 'with', 'Maverick', 's', 'content', 'for', 'the', 'week', 'because', 'Maverick', 's', 'on', 'skis', 'His', 'name', 'is', 'Chuck', 'Patterson', 'and', 'I', 'm', 'not', 'sure', 'if', 'he', 'got', 'lost', 'on', 'the', 'way', 'to', 'the', 'mountains', 'or', 'what', 'but', 'here', 'he', 'is', 'surfing', 'the', 'notorious', 'big', 'wave', 'spot', 'at', 'its', 'most', 'hellish', 'and', 'he', 's', 'doing', 'it', 'on', 'skis', 'holding', 'ski', 'sticks', 'and', 'everything', 'You', 'do', 'you', 'Chuck', 'And', 'that', 'was', 'this', 'week', 'in', 'surfing', 'Have', 'a', 'good', 'weekend', 'everyone', 'Get', 'ready', 'the', 'East', 'Coast', 'is', 'about', 'to', 'rumble', 'Long', 'serving', 'and', 'legendary', 'stalwart', 'of', 'Australian', 'and', 'Queensland', 'surfing', 'passes', 'away', 'at', '82', 'The', 'Most', 'Core', 'Surf', 'Comp', 'of', 'the', 'Year', 'With', 'Sunset', 'cancelled', 'Nick', 'Carroll', 'assesses', 'the', 'obstacles', 'facing', 'the', 'WSL', 's', 'planned', 'restart', 'in', 'Australia', 'Showcasing', 'the', 'best', 'moments', 'from', 'Super', 'Swell', 'Saturday', 'Helicopter', 'footage', 'of', 'the', 'biggest', 'day', 'of', 'the', 'year']\n"
     ]
    },
    {
     "output_type": "error",
     "ename": "AttributeError",
     "evalue": "'float' object has no attribute 'replace'",
     "traceback": [
      "\u001b[1;31m---------------------------------------------------------------------------\u001b[0m",
      "\u001b[1;31mAttributeError\u001b[0m                            Traceback (most recent call last)",
      "\u001b[1;32m<ipython-input-198-4a80b158a3d3>\u001b[0m in \u001b[0;36m<module>\u001b[1;34m\u001b[0m\n\u001b[0;32m      3\u001b[0m     \u001b[1;31m# text_list = []\u001b[0m\u001b[1;33m\u001b[0m\u001b[1;33m\u001b[0m\u001b[1;33m\u001b[0m\u001b[0m\n\u001b[0;32m      4\u001b[0m     \u001b[0mstring\u001b[0m \u001b[1;33m=\u001b[0m \u001b[1;34m\"Quickly access the spots you care about most.\"\u001b[0m\u001b[1;33m\u001b[0m\u001b[1;33m\u001b[0m\u001b[0m\n\u001b[1;32m----> 5\u001b[1;33m     \u001b[0mnew_str\u001b[0m \u001b[1;33m=\u001b[0m \u001b[0mtext1\u001b[0m\u001b[1;33m.\u001b[0m\u001b[0mreplace\u001b[0m\u001b[1;33m(\u001b[0m\u001b[0mstring\u001b[0m\u001b[1;33m,\u001b[0m \u001b[1;34m''\u001b[0m\u001b[1;33m)\u001b[0m\u001b[1;33m\u001b[0m\u001b[1;33m\u001b[0m\u001b[0m\n\u001b[0m\u001b[0;32m      6\u001b[0m     \u001b[0mtokenizer\u001b[0m \u001b[1;33m=\u001b[0m \u001b[0mnltk\u001b[0m\u001b[1;33m.\u001b[0m\u001b[0mRegexpTokenizer\u001b[0m\u001b[1;33m(\u001b[0m\u001b[1;34mr\"\\w+\"\u001b[0m\u001b[1;33m)\u001b[0m\u001b[1;33m\u001b[0m\u001b[1;33m\u001b[0m\u001b[0m\n\u001b[0;32m      7\u001b[0m     \u001b[0mnew_words\u001b[0m \u001b[1;33m=\u001b[0m \u001b[0mtokenizer\u001b[0m\u001b[1;33m.\u001b[0m\u001b[0mtokenize\u001b[0m\u001b[1;33m(\u001b[0m\u001b[0mnew_str\u001b[0m\u001b[1;33m)\u001b[0m\u001b[1;33m\u001b[0m\u001b[1;33m\u001b[0m\u001b[0m\n",
      "\u001b[1;31mAttributeError\u001b[0m: 'float' object has no attribute 'replace'"
     ]
    }
   ],
   "source": [
    "text_list = []\n",
    "for text1 in df['p_text']:\n",
    "    # text_list = []\n",
    "    string = \"Quickly access the spots you care about most.\"\n",
    "    new_str = text1.replace(string, '')\n",
    "    tokenizer = nltk.RegexpTokenizer(r\"\\w+\")\n",
    "    new_words = tokenizer.tokenize(new_str)\n",
    "    print(new_words)\n",
    "    text_list.append(new_words)\n",
    "text_list"
   ]
  },
  {
   "cell_type": "code",
   "execution_count": 200,
   "metadata": {
    "tags": [
     "outputPrepend"
    ]
   },
   "outputs": [
    {
     "output_type": "stream",
     "name": "stdout",
     "text": [
      "rey', 'Juniper', 'Harper', 'and', 'Carly', 'Shanahan', 'Hoyo', 'Winner', 'of', 'the', 'Masters', 'category', 'Photo', 'Swilly', 'Soli', 'Bailey', 'throws', 'it', 'back', 'Photo', 'Swilly', 'Mitch', 'Crews', 'with', 'the', 'darling', 'MR', 'number', 'he', 'and', 'Dimity', 'Stoyle', 'shared', 'for', 'the', 'event', 'Photo', 'Swilly', 'The', 'crowd', 'around', 'the', 'hill', 'at', 'Burleigh', 'Photo', 'Swilly', 'Get', 'ready', 'the', 'East', 'Coast', 'is', 'about', 'to', 'rumble', 'Ten', 'Things', 'from', 'Surfing', 'the', 'Internet', 'on', 'the', 'Week', 'That', 'Was', 'January', '15', '2021', 'Long', 'serving', 'and', 'legendary', 'stalwart', 'of', 'Australian', 'and', 'Queensland', 'surfing', 'passes', 'away', 'at', '82', 'With', 'Sunset', 'cancelled', 'Nick', 'Carroll', 'assesses', 'the', 'obstacles', 'facing', 'the', 'WSL', 's', 'planned', 'restart', 'in', 'Australia', 'Showcasing', 'the', 'best', 'moments', 'from', 'Super', 'Swell', 'Saturday', 'Helicopter', 'footage', 'of', 'the', 'biggest', 'day', 'of', 'the', 'year'], ['This', 'past', 'weekend', 's', 'Super', 'Swell', 'Saturday', 'was', 'shocking', 'in', 'many', 'ways', 'sure', 'but', 'we', 'weren', 't', 'surprised', 'We', 'saw', 'it', 'coming', 'last', 'week', 'Then', 'we', 'compared', 'it', 'to', 'past', 'Jaws', 'swells', 'And', 'reported', 'on', 'the', 'pre', 'game', 'swell', 'that', 'helped', 'preheat', 'the', 'oven', 'And', 'then', 'we', 'proceeded', 'to', 'document', 'Super', 'Swell', 'Saturday', 'in', 'realtime', 'right', 'here', 'and', 'then', 'we', 'snagged', 'a', 'chopper', 'and', 'went', 'live', 'from', 'Jaws', 'for', 'a', 'few', 'hours', 'as', 'the', 'swell', 'peaked', 'right', 'here', 'And', 'now', 'that', 'most', 'of', 'the', 'images', 'and', 'video', 'have', 'made', 'their', 'way', 'to', 'our', 'inboxes', 'we', 're', 'going', 'to', 'present', 'a', 'full', 'gallery', 'below', 'as', 'well', 'as', 'some', 'breakout', 'stories', 'of', 'some', 'of', 'the', 'more', 'memorable', 'moments', 'over', 'the', 'coming', 'days', 'Stay', 'tuned', 'Billy', 'Kemper', 'Jaws', 'yesterday', 'went', 'to', 'a', 'level', 'we', 'haven', 't', 'really', 'seen', 'in', 'the', 'last', '10', 'years', 'I', 'had', 'a', 'blast', 'whipping', 'a', 'couple', 'of', 'my', 'best', 'friends', 'into', 'the', 'biggest', 'waves', 'of', 'their', 'lives', 'Nathan', 'Florence', 'Eli', 'Olson', 'and', 'Makua', 'Rothman', 'Also', 'jumped', 'back', 'on', 'the', 'rope', 'myself', 'for', 'the', 'first', 'time', 'in', 'years', 'and', 'a', 'couple', 'fun', 'rides', 'Photo', 'Jeremiah', 'Klein', 'Surfline', 'Lead', 'Forecaster', 'Jonathan', 'Warren', 'As', 'explained', 'in', 'the', 'Pre', 'Game', 'Swell', 'article', 'that', 'was', 'released', 'just', 'before', 'Super', 'Saturday', 'we', 'have', 'witnessed', 'the', 'typical', 'seasonal', 'shift', 'in', 'the', 'North', 'Pacific', 'storm', 'track', 'at', 'the', 'closing', 'of', '2020', 'and', 'the', 'start', 'of', 'the', 'new', 'year', 'Compared', 'to', 'the', 'months', 'before', 'we', 'have', 'been', 'seeing', 'more', 'stronger', 'and', 'lower', 'latitude', 'storms', 'running', 'amok', 'in', 'the', 'western', 'half', 'of', 'the', 'basin', 'all', 'the', 'facets', 'you', 'want', 'to', 'see', 'for', 'Hawaii', 's', 'surf', 'to', 'turn', 'on', 'Keep', 'in', 'mind', 'this', 'favorable', 'pattern', 'along', 'with', 'the', 'uptick', 'in', 'storm', 'frequency', 'and', 'strength', 'is', 'normal', 'for', 'this', 'stage', 'in', 'the', 'season', 'but', 'this', 'year', 'has', 'seen', 'an', 'above', 'average', 'abundance', 'of', 'strong', 'events', 'it', 's', 'basically', 'been', 'pumping', 'non', 'stop', 'since', 'Christmas', 'and', 'still', 'going', 'see', 'forecast', 'Jamie', 'Sterling', 'has', 'been', 'charging', 'all', 'over', 'the', 'North', 'Shore', 'for', 'decades', 'When', 'a', 'day', 'like', 'this', 'comes', 'he', 's', 'ready', 'Photo', 'Keoki', 'Warren', 'continues', 'Also', 'discussed', 'in', 'the', 'previous', 'article', 'the', 'past', 'few', 'storms', 'have', 'actually', 'been', 'swinging', 'in', 'the', 'general', 'direction', 'of', 'Hawaii', 'east', 'to', 'southeast', 'and', 'with', 'each', 'following', 'close', 'behind', 'the', 'other', 'and', 'coming', 'within', 'close', 'proximity', 'to', 'the', 'Aloha', 'State', 'These', 'are', 'huge', 'factors', 'with', 'maximizing', 'swell', 'making', 'potential', 'it', 's', 'not', 'all', 'just', 'about', 'size', 'and', 'strength', 'Case', 'in', 'point', 'at', 'the', 'turn', 'of', 'the', 'year', 'we', 'witnessed', 'the', 'strongest', 'storm', 'on', 'record', '921mb', 'develop', 'out', 'in', 'the', 'Northwest', 'Pacific', 'and', 'a', 'rather', 'large', 'system', 'as', 'well', 'but', 'due', 'to', 'its', 'distance', 'but', 'more', 'so', 'it', 's', 'northeastward', 'track', 'the', 'swell', 'that', 'propagated', 'into', 'Hawaii', 'was', 'solid', 'but', 'certainly', 'not', 'record', 'setting', 'Meanwhile', 'this', 'latest', 'storm', 'was', 'weaker', '963mb', 'but', 'given', 'its', 'favorable', 'track', 'toward', 'Hawaii', 'close', 'distance', 'and', 'running', 'over', 'a', 'pre', 'excited', 'sea', 'state', 'created', 'from', 'a', 'previous', 'storm', 'we', 'witnessed', 'the', 'largest', 'swell', 'in', 'at', 'least', 'the', 'past', 'couple', 'years', 'View', 'North', 'Shore', 'Forecast', 'Mason', 'Ho', 'is', 'known', 'more', 'for', 'his', 'crazy', 'rock', 'antics', 'and', 'tuberiding', 'at', 'Pipeline', 'but', 'when', 'Waimea', 'Bay', 'wakes', 'up', 'he', 's', 'already', 'had', 'his', 'coffee', 'and', 'is', 'out', 'there', 'Photo', 'Christa', 'Funk', 'Let', 's', 'dissect', 'what', 'the', 'heck', 'we', 'mean', 'with', 'pre', 'excited', 'sea', 'state', 'Warren', 'continues', 'By', 'now', 'you', 'may', 'have', 'seen', 'the', 'mention', 'likely', 'a', 'bunch', 'of', 'times', 'over', 'the', 'years', 'of', 'a', 'preheated', 'oven', 'or', 'pre', 'excited', 'sea', 'state', 'or', 'pre', 'aggravated', 'or', 'something', 'similar', 'by', 'one', 'of', 'our', 'forecasters', 'What', 'that', 'simply', 'means', 'is', 'that', 'you', 'have', 'multiple', 'storms', 'moving', 'over', 'the', 'same', 'area', 'of', 'ocean', 'and', 'before', 'the', 'ocean', 'has', 'a', 'chance', 'to', 'settle', 'in', 'between', 'The', 'trailing', 'storm', 's', 'moving', 'over', 'an', 'already', 'chaotic', 'sea', 'surface', 'will', 'not', 'have', 'to', 'work', 'as', 'hard', 'or', 'as', 'long', 'to', 'transfer', 'energy', 'from', 'the', 'atmosphere', 'into', 'the', 'ocean', 'into', 'the', 'form', 'of', 'waves', 'Basically', 'it', 'can', 'go', 'right', 'to', 'pushing', 'out', 'swell', 'without', 'needing', 'to', 'stir', 'up', 'the', 'ocean', 'first', 'Most', 'importantly', 'storms', 'are', 'usually', 'at', 'their', 'highest', 'potential', 'for', 'pushing', 'out', 'swell', 'during', 'the', 'intensification', 'process', 'when', 'pressure', 'is', 'falling', 'and', 'the', 'strongest', 'winds', 'are', 'at', 'the', 'surface', 'and', 'pushing', 'on', 'the', 'ocean', 'If', 'the', 'storm', 'doesn', 't', 'need', 'to', 'prime', 'the', 'ocean', 'surface', 'first', 'then', 'it', 'can', 'spend', 'more', 'time', 'and', 'energy', 'into', 'swell', 'development', 'during', 'the', 'intensification', 'phase', 'Hence', 'the', 'oven', 'is', 'preheated', 'and', 'ready', 'to', 'cook', 'View', 'Live', 'Waimea', 'Bay', 'Cam', 'Unsurprisingly', 'John', 'John', 'Florence', 'was', 'one', 'of', 'the', 'standouts', 'during', 'Saturday', 's', 'Outer', 'Reef', 'session', 'And', 'yeah', 'that', 's', 'Kelly', 'claiming', 'it', 'for', 'him', 'in', 'the', 'channel', 'Vid', 'Mike', 'Latronic', 'FreeSurf', 'The', 'weekend', 'wasn', 't', 'all', 'XXL', 'carnage', 'in', 'Hawaii', 'Maui', 's', 'Honolua', 'Bay', 'offered', 'up', 'moments', 'of', 'dreamy', 'human', 'sized', 'perfection', 'as', 'illustrated', 'by', 'Kevin', 'Sullivan', 'here', 'Photo', 'Dayanidhi', 'Das', 'Jaws', 'was', 'much', 'smaller', 'on', 'Sunday', 'but', 'still', 'saw', 'plenty', 'of', 'power', 'even', 'from', 'far', 'away', 'Photo', 'Jeremiah', 'Klein', 'Torrey', 'Meister', 'We', 'ended', 'up', 'getting', 'out', 'a', 'little', 'later', 'because', 'the', 'swell', 'was', 'supposed', 'to', 'be', 'the', 'biggest', 'in', 'the', 'evening', 'It', 'was', 'also', 'the', 'windiest', 'so', 'everyone', 'was', 'towing', 'This', 'was', 'the', 'first', 'time', 'I', 'towed', 'since', '2009', 'which', 'was', 'also', 'at', 'Jaws', 'This', 'was', 'my', 'last', 'wave', 'of', 'the', 'day', 'and', 'I', 'remember', 'it', 'being', 'super', 'west', 'I', 'towed', 'a', 'few', 'waves', 'before', 'this', 'and', 'didn', 't', 'feel', 'like', 'I', 'got', 'the', 'right', 'wave', 'or', 'got', 'deep', 'enough', 'to', 'get', 'barreled', 'I', 'was', 'itching', 'to', 'get', 'a', 'barrel', 'So', 'if', 'the', 'next', 'one', 'was', 'right', 'I', 'was', 'gonna', 'try', 'to', 'be', 'deep', 'enough', 'Well', 'I', 'ended', 'up', 'being', 'too', 'deep', 'and', 'getting', 'smoked', 'Laughs', 'But', 'the', 'vision', 'was', 'pretty', 'cool', 'while', 'it', 'lasted', 'Photo', 'Ben', 'Kottke', 'In', 'between', 'sets', 'at', 'Jaws', 'Best', 'seats', 'in', 'the', 'house', 'Photo', 'Jeremiah', 'Klein', 'Francisco', 'Porcella', 'was', 'one', 'of', 'a', 'few', 'surfers', 'who', 'focused', 'on', 'the', 'lefts', 'on', 'Saturday', 'afternoon', 'Stay', 'tuned', 'for', 'video', 'footage', 'of', 'an', 'especially', 'crazy', 'one', 'Photo', 'Pedro', 'Gomes', '12', 'year', 'old', 'Steve', 'Roberson', 'has', 'been', 'charging', 'Jaws', 'since', 'he', 'was', '10', 'Serious', 'Photo', 'Jeremiah', 'Klein', 'Waimea', 'Bay', 'Photo', 'Pete', 'Hodgson', 'Seth', 'Moniz', 'Honolua', 'Bay', 'Photo', 'Dayanidhi', 'Das', 'Two', 'waves', 'from', 'the', 'safety', 'of', 'the', 'sky', 'Kaiwi', 'Berry', 'and', 'Big', 'Ben', 'Wilkinson', 'Vid', 'Connor', 'Trimble', 'Peaceful', 'from', 'up', 'here', 'too', 'Photo', 'LoveAndWater', '12', 'year', 'old', 'Steve', 'Roberson', 'is', 'third', 'generation', 'Jaws', 'surfer', 'who', 'started', 'out', 'here', 'when', 'he', 'was', 'ten', 'Which', 'beats', 'any', 'video', 'game', 'ever', 'Photo', 'Scott', 'Sullivan', 'Meanwhile', 'at', 'Waimea', 'Bay', 'Photo', 'Katie', 'Rodriguez', 'Davis', 'Knowles', 'clean', 'blue', 'Waimea', 'Photo', 'Christa', 'Funk', 'Balaram', 'Stack', 'Outer', 'Reefs', 'Photo', 'Keoki', 'We', 'asked', 'Makua', 'Rothman', 'about', 'this', 'photo', 'He', 'simply', 'said', 'Start', '2021', 'the', 'right', 'way', 'Photo', 'Fred', 'Pompermayer', 'Mikey', 'Wright', 'is', 'generally', 'not', 'known', 'as', 'a', 'big', 'wave', 'charger', 'guy', 'Clearly', 'though', 'when', 'the', 'opportunity', 'presents', 'itself', 'he', 's', 'quite', 'capable', 'Vid', 'Brent', 'Bielmann', 'Up', 'close', 'and', 'personal', 'with', 'one', 'of', 'the', 'scariest', 'lips', 'in', 'the', 'ocean', 'Photo', 'Jeremiah', 'Klein', 'Oh', 'and', 'Justine', 'Dupont', 'managed', 'to', 'snag', 'one', 'of', 'the', 'best', 'barrels', 'of', 'Super', 'Swell', 'Saturday', 'at', 'Jaws', 'stand', 'by', 'for', 'an', 'interview', 'Vid', 'Sam', 'Sykes', 'Swell', 'Signature', 'STORM', 'LOCATION', 'MOVEMENT', 'ESE', 'track', 'across', 'the', 'western', 'half', 'of', 'North', 'Pacific', 'January', '12th', '14th', 'coming', 'within', '1300', '1400', 'from', 'Hawaii', 'STRONGEST', 'STORM', 'WIND', 'SEAS', 'Well', 'aimed', 'fetch', 'up', 'to', '40', '60kts', 'and', 'seas', 'up', 'to', '40', '50', 'feet', 'over', '13th', '14th', 'PEAK', 'STORM', 'INTENSITY', '963mb', 'low', 'flanked', 'by', '1021mb', 'high', 'on', 'the', '13th', 'SWELL', 'TRAVEL', 'TIME', 'About', '3', 'days', 'from', 'peak', 'of', 'storm', 'on', 'the', '13th', 'to', 'peak', 'of', 'swell', 'on', 'Saturday', 'the', '16th', 'PEAK', 'OF', 'SWELL', 'Buoy', '01', 'Saturday', 'morning', 'with', '19', '20', 'feet', 'at', '17', '18', 'seconds', 'North', 'Shore', 'with', '15', '16', 'feet', 'at', '18', '20', 'seconds', 'midday', 'through', 'afternoon', 'North', 'Maui', 'with', '15', 'feet', 'at', '18', '20', 'seconds', 'Helicopter', 'footage', 'of', 'the', 'biggest', 'day', 'of', 'the', 'year', 'Featuring', 'XXL', 'Jaws', 'Oahu', 's', 'Outer', 'Reefs', 'and', 'Waimea', 'Bay', 'Some', 'of', 'the', 'best', 'and', 'scariest', 'moments', 'from', 'one', 'of', 'the', 'biggest', 'and', 'scariest', 'Maverick', 's', 'days', 'in', 'years', 'The', 'best', 'photos', 'from', 'the', 'another', 'amazing', 'week', 'in', 'Hawaii', 'and', 'California', 'Grant', 'Baker', 'breaks', 'down', 'a', 'less', 'than', 'stellar', 'Mav', 's', 'session', 'From', 'Maui', 'and', 'Oahu', 'to', 'NorCal', 'and', 'Oregon', 'here', 's', 'a', 'wrap', 'of', 'the', 'first', 'XL', 'swell', 'of', 'the', 'NPAC', 'season'], ['The', 'month', 'of', 'January', 'isn', 't', 'exactly', 'renowned', 'for', 'big', 'south', 'swells', 'and', 'given', 'the', 'projected', 'surf', 'related', 'impacts', 'associated', 'with', 'this', 'year', 's', 'La', 'Nina', 'you', 'd', 'think', 'we', 're', 'more', 'likely', 'to', 'see', 'a', 'large', 'swell', 'arriving', 'out', 'of', 'east', 'or', 'northeast', 'The', 'La', 'Nina', 'looks', 'like', 'coming', 'back', 'into', 'play', 'late', 'this', 'month', 'In', 'the', 'meantime', 'we', 're', 'now', 'on', 'the', 'cusp', 'of', 'a', 'large', 'and', 'long', 'enduring', 'run', 'of', 'South', 'and', 'SSE', 'groundswell', 'across', 'the', 'East', 'Coast', 'its', 'evolution', 'following', 'a', 'long', 'wave', 'trough', 'amplifying', 'over', 'eastern', 'Australian', 'and', 'NZ', 'longitudes', 'Its', 'evolution', 'now', 'manifesting', 'a', 'large', 'complex', 'and', 'quasi', 'stationary', 'low', 'pressure', 'system', 'south', 'to', 'southeast', 'of', 'the', 'Tasman', 'Sea', 'and', 'NZ', 'This', 'broadscale', 'low', 'is', 'working', 'in', 'conjunction', 'with', 'a', 'big', 'high', 'pressure', 'system', 'migrating', 'slowly', 'eastward', 'below', 'the', 'Bight', 'collectively', 'supporting', 'a', 'vast', 'SSW', 'SW', 'fetch', 'area', 'that', 's', 'been', 'responsible', 'for', 'the', 'last', 'three', 'days', 'of', 'south', 'swell', 'across', 'the', 'NSW', 'coast', 'Monday', 's', 'MSLP', 'chart', 'depicts', 'the', 'source', 'a', 'vigorous', 'frontal', 'low', 'now', 'moving', 'clear', 'of', 'Tasmania', 's', 'swell', 'shadow', 'and', 'into', 'our', 'prime', 'south', 'swell', 'window', 'Source', 'BOM', 'However', 'we', 're', 'now', 'seeing', 'rapid', 'acceleration', 'in', 'wave', 'growth', 'inside', 'our', 'mid', 'and', 'long', 'range', 'south', 'swell', 'windows', 'invigorated', 'by', 'an', 'intense', 'frontal', 'low', 'south', 'of', 'Tasmania', 'now', 'merging', 'with', 'the', 'parent', 'system', 'A', 'satellite', 'pass', 'captured', 'a', 'core', '50', 'to', '60', 'knot', 'SSW', 'fetch', 'on', 'Monday', 'initially', 'aimed', 'at', 'Victorian', 'and', 'Tasmanian', 'targets', 'This', 'ASCAT', 'image', 'depicts', 'core', 'wind', 'speeds', 'of', '50', '60', 'knots', 'the', 'driving', 'force', 'behind', 'several', 'days', 'of', 'thumping', 'south', 'groundswell', 'across', 'the', 'NSW', 'coast', 'Source', 'NOAA', 'As', 'the', 'low', 'marches', 'further', 'east', 'over', 'the', 'next', '24', 'hours', 'we', 'll', 'see', 'the', 'severe', 'gale', 'to', 'storm', 'force', 'fetch', 'expanding', 'in', 'size', 'as', 'it', 'moves', 'clear', 'of', 'Tasmania', 's', 'swell', 'shadow', 'and', 'into', 'our', 'swell', 'window', 'Further', 'the', 'system', 'goes', 'to', 'work', 'upon', 'an', 'already', 'highly', 'active', 'sea', 'state', 'still', 'evident', 'in', 'the', 'wake', 'of', 'the', 'leading', 'area', 'of', 'low', 'pressure', 'that', 'swept', 'across', 'the', 'southern', 'Tasman', 'Sea', 'over', 'the', 'weekend', 'That', 'lends', 'high', 'confidence', 'for', 'a', 'peak', 'in', 'seas', 'and', 'swell', 'in', 'the', '40', '50ft', 'range', 'occurring', 'over', 'the', 'southern', 'Tasman', 'Sea', 'just', 'below', 'the', '40S', 'parallel', 'on', 'Tuesday', 'morning', 'Maximum', 'seas', 'and', 'swell', 'are', 'projected', 'to', 'top', 'out', 'in', 'the', '40', '50ft', 'range', 'on', 'Tuesday', 'leading', 'in', 'an', 'overnight', 'peak', 'in', 'energy', 'spilling', 'over', 'into', 'Wednesday', 'morning', 'Keep', 'in', 'mind', 'the', 'bulk', 'of', 'the', 'resulting', 'SW', 'groundswell', 'emanating', 'from', 'this', 'source', 'is', 'directed', 'further', 'north', 'and', 'east', 'ie', 'at', 'NZ', 'and', 'Fiji', 'and', 'there', 's', 'little', 'doubt', 'both', 'locations', 'will', 'feel', 'the', 'brunt', 'of', 'exceptionally', 'large', 'swell', 'event', 'in', 'the', 'days', 'following', 'However', 'that', 'still', 'points', 'to', 'a', 'large', 'and', 'powerful', 'southerly', 'groundswell', 'moving', 'up', 'the', 'NSW', 'coast', 'ramping', 'up', 'across', 'the', 'South', 'Coast', 'from', 'Tuesday', 'morning', 'before', 'really', 'kicking', 'in', 'across', 'Sydney', 'and', 'Newcastle', 'during', 'the', 'afternoon', 'For', 'Sydney', 'and', 'locations', 'north', 'it', 's', 'looking', 'like', 'the', 'bulk', 'of', 'energy', 'will', 'move', 'in', 'throughout', 'the', 'evening', 'and', 'overnight', 'leading', 'in', 'still', 'large', 'and', 'powerful', 'surf', 'across', 'the', 'region', 'on', 'Wednesday', 'morning', 'True', 'south', 'exposed', 'breaks', 'and', 'deepwater', 'reefs', 'across', 'Sydney', 'can', 'expect', 'set', 'waves', 'nudging', 'the', '8', '10ft', 'range', 'early', 'on', 'Wednesday', 'morning', 'before', 'levelling', 'off', 'at', 'a', 'still', 'energetic', '6', '8ft', 'during', 'the', 'day', 'Newcastle', 'and', 'mid', 'northern', 'NSW', 'coasts', 'are', 'likely', 'to', 'see', 'slightly', 'larger', 'surf', 'early', 'with', 'the', 'bulk', 'of', 'energy', 'building', 'in', 'across', 'mid', 'to', 'northern', 'NSW', 'coasts', 'throughout', 'the', 'afternoon', 'Having', 'said', 'all', 'that', 'it', 's', 'clear', 'that', 'a', 'moderate', 'onshore', 'SSE', 'flow', 'will', 'limit', 'surfing', 'options', 'to', 'the', 'most', 'sheltered', 'nooks', 'and', 'crannies', 'holding', 'the', 'swell', 'so', 'plan', 'accordingly', 'Data', 'from', 'our', 'new', 'Lotus', 'model', 'depicts', 'a', 'peak', 'in', 'energy', 'across', 'Sydney', 'and', 'surrounds', 'early', 'on', 'Wednesday', 'The', 'sheer', 'size', 'of', 'the', 'fetch', 'area', 'will', 'deliver', 'many', 'days', 'of', 'powerful', 'surf', 'transitioning', 'from', 'a', 'pretty', 'straight', 'southerly', 'direction', 'on', 'Wednesday', 's', 'peak', 'to', 'a', 'more', 'SSE', 'angle', 'of', '160', 'to', '170', 'degrees', 'on', 'Thursday', 'and', 'Friday', 'That', 'should', 'see', 'an', 'exceptional', 'day', 'of', 'surf', 'on', 'the', 'Thursday', 'and', 'a', 'still', 'large', 'and', 'powerful', 'groundswell', 'is', 'greeted', 'by', 'early', 'light', 'NW', 'winds', 'trending', 'moderate', 'to', 'fresh', 'NE', 'into', 'the', 'afternoon', 'Likewise', 'Friday', 'should', 'also', 'offer', 'up', 'another', 'full', 'day', 'of', 'great', 'conditions', 'favouring', 'south', 'facing', 'breaks', 'under', 'a', 'continued', 'north', 'to', 'NE', 'wind', 'regime', 'Ten', 'Things', 'from', 'Surfing', 'the', 'Internet', 'on', 'the', 'Week', 'That', 'Was', 'January', '15', '2021', 'Long', 'serving', 'and', 'legendary', 'stalwart', 'of', 'Australian', 'and', 'Queensland', 'surfing', 'passes', 'away', 'at', '82', 'The', 'Most', 'Core', 'Surf', 'Comp', 'of', 'the', 'Year', 'With', 'Sunset', 'cancelled', 'Nick', 'Carroll', 'assesses', 'the', 'obstacles', 'facing', 'the', 'WSL', 's', 'planned', 'restart', 'in', 'Australia', 'Showcasing', 'the', 'best', 'moments', 'from', 'Super', 'Swell', 'Saturday', 'Helicopter', 'footage', 'of', 'the', 'biggest', 'day', 'of', 'the', 'year']]\n1    [\"Quickly access the spots you care about most...\n2    [\"Quickly access the spots you care about most...\n3    [\"Quickly access the spots you care about most...\n4    [\"Quickly access the spots you care about most...\n5    [\"Quickly access the spots you care about most...\n6    [\"Quickly access the spots you care about most...\n7    [\"Quickly access the spots you care about most...\n8    [\"Quickly access the spots you care about most...\n9    [\"Quickly access the spots you care about most...\nName: p_text, dtype: object\n"
     ]
    }
   ],
   "source": [
    "print(len(text_list))\n",
    "print(len(df['p_text']))\n",
    "print(text_list[1:10])\n",
    "print(df['p_text'][1:10])"
   ]
  },
  {
   "cell_type": "code",
   "execution_count": 143,
   "metadata": {},
   "outputs": [
    {
     "output_type": "execute_result",
     "data": {
      "text/plain": [
       "str"
      ]
     },
     "metadata": {},
     "execution_count": 143
    }
   ],
   "source": [
    "obj = df['p_text'][1]\n",
    "type(obj)"
   ]
  },
  {
   "cell_type": "code",
   "execution_count": 144,
   "metadata": {},
   "outputs": [
    {
     "output_type": "execute_result",
     "data": {
      "text/plain": [
       "'[\"Quickly access the spots you care about most.\",\"If you don’t know of Kehu Butler yet, there’s no better way to get acquainted with the young man than with this excellent clip.\\xa0We get a glimpse into the 20 year old rising surf star’s life in\\xa0Mount Maunganui,\\xa0Aotearoa as well as a beautiful insight into his rich culture. And, of course, we see him shred with the smooth power that made him the Australasian Junior Champ back in 2018 and one to watch out for in the future. Plus, he has some, ahh, pretty colourful things to say about New Zealand pies versus Aussie pies.\",\"\\\\\"We\\'ve got all kinds of reef around here we can play with...\\\\\"\",\"Get ready, the East Coast is about to rumble.\",\"Ten Things from Surfing & the Internet on the Week That Was January 15 2021\",\"Long-serving and legendary stalwart of Australian and Queensland surfing passes away at 82\",\"The Most Core Surf Comp of the Year\",\"Ten Things from Surfing & the Internet on the Week That Was January 9 2021\"]'"
      ]
     },
     "metadata": {},
     "execution_count": 144
    }
   ],
   "source": [
    "obj"
   ]
  },
  {
   "cell_type": "code",
   "execution_count": 163,
   "metadata": {},
   "outputs": [
    {
     "output_type": "execute_result",
     "data": {
      "text/plain": [
       "'[\"\",\"If you don’t know of Kehu Butler yet, there’s no better way to get acquainted with the young man than with this excellent clip.\\xa0We get a glimpse into the 20 year old rising surf star’s life in\\xa0Mount Maunganui,\\xa0Aotearoa as well as a beautiful insight into his rich culture. And, of course, we see him shred with the smooth power that made him the Australasian Junior Champ back in 2018 and one to watch out for in the future. Plus, he has some, ahh, pretty colourful things to say about New Zealand pies versus Aussie pies.\",\"\\\\\"We\\'ve got all kinds of reef around here we can play with...\\\\\"\",\"Get ready, the East Coast is about to rumble.\",\"Ten Things from Surfing & the Internet on the Week That Was January 15 2021\",\"Long-serving and legendary stalwart of Australian and Queensland surfing passes away at 82\",\"The Most Core Surf Comp of the Year\",\"Ten Things from Surfing & the Internet on the Week That Was January 9 2021\"]'"
      ]
     },
     "metadata": {},
     "execution_count": 163
    }
   ],
   "source": [
    "string = \"Quickly access the spots you care about most.\"\n",
    "test = obj.replace(string, '')\n",
    "tokenizetest"
   ]
  },
  {
   "cell_type": "code",
   "execution_count": 170,
   "metadata": {},
   "outputs": [
    {
     "output_type": "execute_result",
     "data": {
      "text/plain": [
       "['If',\n",
       " 'you',\n",
       " 'don',\n",
       " 't',\n",
       " 'know',\n",
       " 'of',\n",
       " 'Kehu',\n",
       " 'Butler',\n",
       " 'yet',\n",
       " 'there',\n",
       " 's',\n",
       " 'no',\n",
       " 'better',\n",
       " 'way',\n",
       " 'to',\n",
       " 'get',\n",
       " 'acquainted',\n",
       " 'with',\n",
       " 'the',\n",
       " 'young',\n",
       " 'man',\n",
       " 'than',\n",
       " 'with',\n",
       " 'this',\n",
       " 'excellent',\n",
       " 'clip',\n",
       " 'We',\n",
       " 'get',\n",
       " 'a',\n",
       " 'glimpse',\n",
       " 'into',\n",
       " 'the',\n",
       " '20',\n",
       " 'year',\n",
       " 'old',\n",
       " 'rising',\n",
       " 'surf',\n",
       " 'star',\n",
       " 's',\n",
       " 'life',\n",
       " 'in',\n",
       " 'Mount',\n",
       " 'Maunganui',\n",
       " 'Aotearoa',\n",
       " 'as',\n",
       " 'well',\n",
       " 'as',\n",
       " 'a',\n",
       " 'beautiful',\n",
       " 'insight',\n",
       " 'into',\n",
       " 'his',\n",
       " 'rich',\n",
       " 'culture',\n",
       " 'And',\n",
       " 'of',\n",
       " 'course',\n",
       " 'we',\n",
       " 'see',\n",
       " 'him',\n",
       " 'shred',\n",
       " 'with',\n",
       " 'the',\n",
       " 'smooth',\n",
       " 'power',\n",
       " 'that',\n",
       " 'made',\n",
       " 'him',\n",
       " 'the',\n",
       " 'Australasian',\n",
       " 'Junior',\n",
       " 'Champ',\n",
       " 'back',\n",
       " 'in',\n",
       " '2018',\n",
       " 'and',\n",
       " 'one',\n",
       " 'to',\n",
       " 'watch',\n",
       " 'out',\n",
       " 'for',\n",
       " 'in',\n",
       " 'the',\n",
       " 'future',\n",
       " 'Plus',\n",
       " 'he',\n",
       " 'has',\n",
       " 'some',\n",
       " 'ahh',\n",
       " 'pretty',\n",
       " 'colourful',\n",
       " 'things',\n",
       " 'to',\n",
       " 'say',\n",
       " 'about',\n",
       " 'New',\n",
       " 'Zealand',\n",
       " 'pies',\n",
       " 'versus',\n",
       " 'Aussie',\n",
       " 'pies',\n",
       " 'We',\n",
       " 've',\n",
       " 'got',\n",
       " 'all',\n",
       " 'kinds',\n",
       " 'of',\n",
       " 'reef',\n",
       " 'around',\n",
       " 'here',\n",
       " 'we',\n",
       " 'can',\n",
       " 'play',\n",
       " 'with',\n",
       " 'Get',\n",
       " 'ready',\n",
       " 'the',\n",
       " 'East',\n",
       " 'Coast',\n",
       " 'is',\n",
       " 'about',\n",
       " 'to',\n",
       " 'rumble',\n",
       " 'Ten',\n",
       " 'Things',\n",
       " 'from',\n",
       " 'Surfing',\n",
       " 'the',\n",
       " 'Internet',\n",
       " 'on',\n",
       " 'the',\n",
       " 'Week',\n",
       " 'That',\n",
       " 'Was',\n",
       " 'January',\n",
       " '15',\n",
       " '2021',\n",
       " 'Long',\n",
       " 'serving',\n",
       " 'and',\n",
       " 'legendary',\n",
       " 'stalwart',\n",
       " 'of',\n",
       " 'Australian',\n",
       " 'and',\n",
       " 'Queensland',\n",
       " 'surfing',\n",
       " 'passes',\n",
       " 'away',\n",
       " 'at',\n",
       " '82',\n",
       " 'The',\n",
       " 'Most',\n",
       " 'Core',\n",
       " 'Surf',\n",
       " 'Comp',\n",
       " 'of',\n",
       " 'the',\n",
       " 'Year',\n",
       " 'Ten',\n",
       " 'Things',\n",
       " 'from',\n",
       " 'Surfing',\n",
       " 'the',\n",
       " 'Internet',\n",
       " 'on',\n",
       " 'the',\n",
       " 'Week',\n",
       " 'That',\n",
       " 'Was',\n",
       " 'January',\n",
       " '9',\n",
       " '2021']"
      ]
     },
     "metadata": {},
     "execution_count": 170
    }
   ],
   "source": [
    "tokenizer = nltk.RegexpTokenizer(r\"\\w+\")\n",
    "new_words = tokenizer.tokenize(test)\n",
    "# new_words = word_tokenize(test)\n",
    "new_words"
   ]
  },
  {
   "cell_type": "code",
   "execution_count": 153,
   "metadata": {},
   "outputs": [
    {
     "output_type": "error",
     "ename": "TypeError",
     "evalue": "expected string or bytes-like object",
     "traceback": [
      "\u001b[1;31m---------------------------------------------------------------------------\u001b[0m",
      "\u001b[1;31mTypeError\u001b[0m                                 Traceback (most recent call last)",
      "\u001b[1;32m<ipython-input-153-3844ffd737ab>\u001b[0m in \u001b[0;36m<module>\u001b[1;34m\u001b[0m\n\u001b[1;32m----> 1\u001b[1;33m \u001b[0mtext_tokens\u001b[0m \u001b[1;33m=\u001b[0m \u001b[0mdf\u001b[0m\u001b[1;33m[\u001b[0m\u001b[1;34m'tags_text'\u001b[0m\u001b[1;33m]\u001b[0m\u001b[1;33m.\u001b[0m\u001b[0mapply\u001b[0m\u001b[1;33m(\u001b[0m\u001b[1;32mlambda\u001b[0m \u001b[0mx\u001b[0m\u001b[1;33m:\u001b[0m \u001b[0mword_tokenize\u001b[0m\u001b[1;33m(\u001b[0m\u001b[0mx\u001b[0m\u001b[1;33m)\u001b[0m\u001b[1;33m)\u001b[0m\u001b[1;33m\u001b[0m\u001b[1;33m\u001b[0m\u001b[0m\n\u001b[0m",
      "\u001b[1;32m~\\anaconda3\\lib\\site-packages\\pandas\\core\\series.py\u001b[0m in \u001b[0;36mapply\u001b[1;34m(self, func, convert_dtype, args, **kwds)\u001b[0m\n\u001b[0;32m   3846\u001b[0m             \u001b[1;32melse\u001b[0m\u001b[1;33m:\u001b[0m\u001b[1;33m\u001b[0m\u001b[1;33m\u001b[0m\u001b[0m\n\u001b[0;32m   3847\u001b[0m                 \u001b[0mvalues\u001b[0m \u001b[1;33m=\u001b[0m \u001b[0mself\u001b[0m\u001b[1;33m.\u001b[0m\u001b[0mastype\u001b[0m\u001b[1;33m(\u001b[0m\u001b[0mobject\u001b[0m\u001b[1;33m)\u001b[0m\u001b[1;33m.\u001b[0m\u001b[0mvalues\u001b[0m\u001b[1;33m\u001b[0m\u001b[1;33m\u001b[0m\u001b[0m\n\u001b[1;32m-> 3848\u001b[1;33m                 \u001b[0mmapped\u001b[0m \u001b[1;33m=\u001b[0m \u001b[0mlib\u001b[0m\u001b[1;33m.\u001b[0m\u001b[0mmap_infer\u001b[0m\u001b[1;33m(\u001b[0m\u001b[0mvalues\u001b[0m\u001b[1;33m,\u001b[0m \u001b[0mf\u001b[0m\u001b[1;33m,\u001b[0m \u001b[0mconvert\u001b[0m\u001b[1;33m=\u001b[0m\u001b[0mconvert_dtype\u001b[0m\u001b[1;33m)\u001b[0m\u001b[1;33m\u001b[0m\u001b[1;33m\u001b[0m\u001b[0m\n\u001b[0m\u001b[0;32m   3849\u001b[0m \u001b[1;33m\u001b[0m\u001b[0m\n\u001b[0;32m   3850\u001b[0m         \u001b[1;32mif\u001b[0m \u001b[0mlen\u001b[0m\u001b[1;33m(\u001b[0m\u001b[0mmapped\u001b[0m\u001b[1;33m)\u001b[0m \u001b[1;32mand\u001b[0m \u001b[0misinstance\u001b[0m\u001b[1;33m(\u001b[0m\u001b[0mmapped\u001b[0m\u001b[1;33m[\u001b[0m\u001b[1;36m0\u001b[0m\u001b[1;33m]\u001b[0m\u001b[1;33m,\u001b[0m \u001b[0mSeries\u001b[0m\u001b[1;33m)\u001b[0m\u001b[1;33m:\u001b[0m\u001b[1;33m\u001b[0m\u001b[1;33m\u001b[0m\u001b[0m\n",
      "\u001b[1;32mpandas\\_libs\\lib.pyx\u001b[0m in \u001b[0;36mpandas._libs.lib.map_infer\u001b[1;34m()\u001b[0m\n",
      "\u001b[1;32m<ipython-input-153-3844ffd737ab>\u001b[0m in \u001b[0;36m<lambda>\u001b[1;34m(x)\u001b[0m\n\u001b[1;32m----> 1\u001b[1;33m \u001b[0mtext_tokens\u001b[0m \u001b[1;33m=\u001b[0m \u001b[0mdf\u001b[0m\u001b[1;33m[\u001b[0m\u001b[1;34m'tags_text'\u001b[0m\u001b[1;33m]\u001b[0m\u001b[1;33m.\u001b[0m\u001b[0mapply\u001b[0m\u001b[1;33m(\u001b[0m\u001b[1;32mlambda\u001b[0m \u001b[0mx\u001b[0m\u001b[1;33m:\u001b[0m \u001b[0mword_tokenize\u001b[0m\u001b[1;33m(\u001b[0m\u001b[0mx\u001b[0m\u001b[1;33m)\u001b[0m\u001b[1;33m)\u001b[0m\u001b[1;33m\u001b[0m\u001b[1;33m\u001b[0m\u001b[0m\n\u001b[0m",
      "\u001b[1;32m~\\anaconda3\\lib\\site-packages\\nltk\\tokenize\\__init__.py\u001b[0m in \u001b[0;36mword_tokenize\u001b[1;34m(text, language, preserve_line)\u001b[0m\n\u001b[0;32m    127\u001b[0m     \u001b[1;33m:\u001b[0m\u001b[0mtype\u001b[0m \u001b[0mpreserve_line\u001b[0m\u001b[1;33m:\u001b[0m \u001b[0mbool\u001b[0m\u001b[1;33m\u001b[0m\u001b[1;33m\u001b[0m\u001b[0m\n\u001b[0;32m    128\u001b[0m     \"\"\"\n\u001b[1;32m--> 129\u001b[1;33m     \u001b[0msentences\u001b[0m \u001b[1;33m=\u001b[0m \u001b[1;33m[\u001b[0m\u001b[0mtext\u001b[0m\u001b[1;33m]\u001b[0m \u001b[1;32mif\u001b[0m \u001b[0mpreserve_line\u001b[0m \u001b[1;32melse\u001b[0m \u001b[0msent_tokenize\u001b[0m\u001b[1;33m(\u001b[0m\u001b[0mtext\u001b[0m\u001b[1;33m,\u001b[0m \u001b[0mlanguage\u001b[0m\u001b[1;33m)\u001b[0m\u001b[1;33m\u001b[0m\u001b[1;33m\u001b[0m\u001b[0m\n\u001b[0m\u001b[0;32m    130\u001b[0m     return [\n\u001b[0;32m    131\u001b[0m         \u001b[0mtoken\u001b[0m \u001b[1;32mfor\u001b[0m \u001b[0msent\u001b[0m \u001b[1;32min\u001b[0m \u001b[0msentences\u001b[0m \u001b[1;32mfor\u001b[0m \u001b[0mtoken\u001b[0m \u001b[1;32min\u001b[0m \u001b[0m_treebank_word_tokenizer\u001b[0m\u001b[1;33m.\u001b[0m\u001b[0mtokenize\u001b[0m\u001b[1;33m(\u001b[0m\u001b[0msent\u001b[0m\u001b[1;33m)\u001b[0m\u001b[1;33m\u001b[0m\u001b[1;33m\u001b[0m\u001b[0m\n",
      "\u001b[1;32m~\\anaconda3\\lib\\site-packages\\nltk\\tokenize\\__init__.py\u001b[0m in \u001b[0;36msent_tokenize\u001b[1;34m(text, language)\u001b[0m\n\u001b[0;32m    105\u001b[0m     \"\"\"\n\u001b[0;32m    106\u001b[0m     \u001b[0mtokenizer\u001b[0m \u001b[1;33m=\u001b[0m \u001b[0mload\u001b[0m\u001b[1;33m(\u001b[0m\u001b[1;34m\"tokenizers/punkt/{0}.pickle\"\u001b[0m\u001b[1;33m.\u001b[0m\u001b[0mformat\u001b[0m\u001b[1;33m(\u001b[0m\u001b[0mlanguage\u001b[0m\u001b[1;33m)\u001b[0m\u001b[1;33m)\u001b[0m\u001b[1;33m\u001b[0m\u001b[1;33m\u001b[0m\u001b[0m\n\u001b[1;32m--> 107\u001b[1;33m     \u001b[1;32mreturn\u001b[0m \u001b[0mtokenizer\u001b[0m\u001b[1;33m.\u001b[0m\u001b[0mtokenize\u001b[0m\u001b[1;33m(\u001b[0m\u001b[0mtext\u001b[0m\u001b[1;33m)\u001b[0m\u001b[1;33m\u001b[0m\u001b[1;33m\u001b[0m\u001b[0m\n\u001b[0m\u001b[0;32m    108\u001b[0m \u001b[1;33m\u001b[0m\u001b[0m\n\u001b[0;32m    109\u001b[0m \u001b[1;33m\u001b[0m\u001b[0m\n",
      "\u001b[1;32m~\\anaconda3\\lib\\site-packages\\nltk\\tokenize\\punkt.py\u001b[0m in \u001b[0;36mtokenize\u001b[1;34m(self, text, realign_boundaries)\u001b[0m\n\u001b[0;32m   1270\u001b[0m         \u001b[0mGiven\u001b[0m \u001b[0ma\u001b[0m \u001b[0mtext\u001b[0m\u001b[1;33m,\u001b[0m \u001b[0mreturns\u001b[0m \u001b[0ma\u001b[0m \u001b[0mlist\u001b[0m \u001b[0mof\u001b[0m \u001b[0mthe\u001b[0m \u001b[0msentences\u001b[0m \u001b[1;32min\u001b[0m \u001b[0mthat\u001b[0m \u001b[0mtext\u001b[0m\u001b[1;33m.\u001b[0m\u001b[1;33m\u001b[0m\u001b[1;33m\u001b[0m\u001b[0m\n\u001b[0;32m   1271\u001b[0m         \"\"\"\n\u001b[1;32m-> 1272\u001b[1;33m         \u001b[1;32mreturn\u001b[0m \u001b[0mlist\u001b[0m\u001b[1;33m(\u001b[0m\u001b[0mself\u001b[0m\u001b[1;33m.\u001b[0m\u001b[0msentences_from_text\u001b[0m\u001b[1;33m(\u001b[0m\u001b[0mtext\u001b[0m\u001b[1;33m,\u001b[0m \u001b[0mrealign_boundaries\u001b[0m\u001b[1;33m)\u001b[0m\u001b[1;33m)\u001b[0m\u001b[1;33m\u001b[0m\u001b[1;33m\u001b[0m\u001b[0m\n\u001b[0m\u001b[0;32m   1273\u001b[0m \u001b[1;33m\u001b[0m\u001b[0m\n\u001b[0;32m   1274\u001b[0m     \u001b[1;32mdef\u001b[0m \u001b[0mdebug_decisions\u001b[0m\u001b[1;33m(\u001b[0m\u001b[0mself\u001b[0m\u001b[1;33m,\u001b[0m \u001b[0mtext\u001b[0m\u001b[1;33m)\u001b[0m\u001b[1;33m:\u001b[0m\u001b[1;33m\u001b[0m\u001b[1;33m\u001b[0m\u001b[0m\n",
      "\u001b[1;32m~\\anaconda3\\lib\\site-packages\\nltk\\tokenize\\punkt.py\u001b[0m in \u001b[0;36msentences_from_text\u001b[1;34m(self, text, realign_boundaries)\u001b[0m\n\u001b[0;32m   1324\u001b[0m         \u001b[0mfollows\u001b[0m \u001b[0mthe\u001b[0m \u001b[0mperiod\u001b[0m\u001b[1;33m.\u001b[0m\u001b[1;33m\u001b[0m\u001b[1;33m\u001b[0m\u001b[0m\n\u001b[0;32m   1325\u001b[0m         \"\"\"\n\u001b[1;32m-> 1326\u001b[1;33m         \u001b[1;32mreturn\u001b[0m \u001b[1;33m[\u001b[0m\u001b[0mtext\u001b[0m\u001b[1;33m[\u001b[0m\u001b[0ms\u001b[0m\u001b[1;33m:\u001b[0m\u001b[0me\u001b[0m\u001b[1;33m]\u001b[0m \u001b[1;32mfor\u001b[0m \u001b[0ms\u001b[0m\u001b[1;33m,\u001b[0m \u001b[0me\u001b[0m \u001b[1;32min\u001b[0m \u001b[0mself\u001b[0m\u001b[1;33m.\u001b[0m\u001b[0mspan_tokenize\u001b[0m\u001b[1;33m(\u001b[0m\u001b[0mtext\u001b[0m\u001b[1;33m,\u001b[0m \u001b[0mrealign_boundaries\u001b[0m\u001b[1;33m)\u001b[0m\u001b[1;33m]\u001b[0m\u001b[1;33m\u001b[0m\u001b[1;33m\u001b[0m\u001b[0m\n\u001b[0m\u001b[0;32m   1327\u001b[0m \u001b[1;33m\u001b[0m\u001b[0m\n\u001b[0;32m   1328\u001b[0m     \u001b[1;32mdef\u001b[0m \u001b[0m_slices_from_text\u001b[0m\u001b[1;33m(\u001b[0m\u001b[0mself\u001b[0m\u001b[1;33m,\u001b[0m \u001b[0mtext\u001b[0m\u001b[1;33m)\u001b[0m\u001b[1;33m:\u001b[0m\u001b[1;33m\u001b[0m\u001b[1;33m\u001b[0m\u001b[0m\n",
      "\u001b[1;32m~\\anaconda3\\lib\\site-packages\\nltk\\tokenize\\punkt.py\u001b[0m in \u001b[0;36m<listcomp>\u001b[1;34m(.0)\u001b[0m\n\u001b[0;32m   1324\u001b[0m         \u001b[0mfollows\u001b[0m \u001b[0mthe\u001b[0m \u001b[0mperiod\u001b[0m\u001b[1;33m.\u001b[0m\u001b[1;33m\u001b[0m\u001b[1;33m\u001b[0m\u001b[0m\n\u001b[0;32m   1325\u001b[0m         \"\"\"\n\u001b[1;32m-> 1326\u001b[1;33m         \u001b[1;32mreturn\u001b[0m \u001b[1;33m[\u001b[0m\u001b[0mtext\u001b[0m\u001b[1;33m[\u001b[0m\u001b[0ms\u001b[0m\u001b[1;33m:\u001b[0m\u001b[0me\u001b[0m\u001b[1;33m]\u001b[0m \u001b[1;32mfor\u001b[0m \u001b[0ms\u001b[0m\u001b[1;33m,\u001b[0m \u001b[0me\u001b[0m \u001b[1;32min\u001b[0m \u001b[0mself\u001b[0m\u001b[1;33m.\u001b[0m\u001b[0mspan_tokenize\u001b[0m\u001b[1;33m(\u001b[0m\u001b[0mtext\u001b[0m\u001b[1;33m,\u001b[0m \u001b[0mrealign_boundaries\u001b[0m\u001b[1;33m)\u001b[0m\u001b[1;33m]\u001b[0m\u001b[1;33m\u001b[0m\u001b[1;33m\u001b[0m\u001b[0m\n\u001b[0m\u001b[0;32m   1327\u001b[0m \u001b[1;33m\u001b[0m\u001b[0m\n\u001b[0;32m   1328\u001b[0m     \u001b[1;32mdef\u001b[0m \u001b[0m_slices_from_text\u001b[0m\u001b[1;33m(\u001b[0m\u001b[0mself\u001b[0m\u001b[1;33m,\u001b[0m \u001b[0mtext\u001b[0m\u001b[1;33m)\u001b[0m\u001b[1;33m:\u001b[0m\u001b[1;33m\u001b[0m\u001b[1;33m\u001b[0m\u001b[0m\n",
      "\u001b[1;32m~\\anaconda3\\lib\\site-packages\\nltk\\tokenize\\punkt.py\u001b[0m in \u001b[0;36mspan_tokenize\u001b[1;34m(self, text, realign_boundaries)\u001b[0m\n\u001b[0;32m   1314\u001b[0m         \u001b[1;32mif\u001b[0m \u001b[0mrealign_boundaries\u001b[0m\u001b[1;33m:\u001b[0m\u001b[1;33m\u001b[0m\u001b[1;33m\u001b[0m\u001b[0m\n\u001b[0;32m   1315\u001b[0m             \u001b[0mslices\u001b[0m \u001b[1;33m=\u001b[0m \u001b[0mself\u001b[0m\u001b[1;33m.\u001b[0m\u001b[0m_realign_boundaries\u001b[0m\u001b[1;33m(\u001b[0m\u001b[0mtext\u001b[0m\u001b[1;33m,\u001b[0m \u001b[0mslices\u001b[0m\u001b[1;33m)\u001b[0m\u001b[1;33m\u001b[0m\u001b[1;33m\u001b[0m\u001b[0m\n\u001b[1;32m-> 1316\u001b[1;33m         \u001b[1;32mfor\u001b[0m \u001b[0msl\u001b[0m \u001b[1;32min\u001b[0m \u001b[0mslices\u001b[0m\u001b[1;33m:\u001b[0m\u001b[1;33m\u001b[0m\u001b[1;33m\u001b[0m\u001b[0m\n\u001b[0m\u001b[0;32m   1317\u001b[0m             \u001b[1;32myield\u001b[0m \u001b[1;33m(\u001b[0m\u001b[0msl\u001b[0m\u001b[1;33m.\u001b[0m\u001b[0mstart\u001b[0m\u001b[1;33m,\u001b[0m \u001b[0msl\u001b[0m\u001b[1;33m.\u001b[0m\u001b[0mstop\u001b[0m\u001b[1;33m)\u001b[0m\u001b[1;33m\u001b[0m\u001b[1;33m\u001b[0m\u001b[0m\n\u001b[0;32m   1318\u001b[0m \u001b[1;33m\u001b[0m\u001b[0m\n",
      "\u001b[1;32m~\\anaconda3\\lib\\site-packages\\nltk\\tokenize\\punkt.py\u001b[0m in \u001b[0;36m_realign_boundaries\u001b[1;34m(self, text, slices)\u001b[0m\n\u001b[0;32m   1355\u001b[0m         \"\"\"\n\u001b[0;32m   1356\u001b[0m         \u001b[0mrealign\u001b[0m \u001b[1;33m=\u001b[0m \u001b[1;36m0\u001b[0m\u001b[1;33m\u001b[0m\u001b[1;33m\u001b[0m\u001b[0m\n\u001b[1;32m-> 1357\u001b[1;33m         \u001b[1;32mfor\u001b[0m \u001b[0msl1\u001b[0m\u001b[1;33m,\u001b[0m \u001b[0msl2\u001b[0m \u001b[1;32min\u001b[0m \u001b[0m_pair_iter\u001b[0m\u001b[1;33m(\u001b[0m\u001b[0mslices\u001b[0m\u001b[1;33m)\u001b[0m\u001b[1;33m:\u001b[0m\u001b[1;33m\u001b[0m\u001b[1;33m\u001b[0m\u001b[0m\n\u001b[0m\u001b[0;32m   1358\u001b[0m             \u001b[0msl1\u001b[0m \u001b[1;33m=\u001b[0m \u001b[0mslice\u001b[0m\u001b[1;33m(\u001b[0m\u001b[0msl1\u001b[0m\u001b[1;33m.\u001b[0m\u001b[0mstart\u001b[0m \u001b[1;33m+\u001b[0m \u001b[0mrealign\u001b[0m\u001b[1;33m,\u001b[0m \u001b[0msl1\u001b[0m\u001b[1;33m.\u001b[0m\u001b[0mstop\u001b[0m\u001b[1;33m)\u001b[0m\u001b[1;33m\u001b[0m\u001b[1;33m\u001b[0m\u001b[0m\n\u001b[0;32m   1359\u001b[0m             \u001b[1;32mif\u001b[0m \u001b[1;32mnot\u001b[0m \u001b[0msl2\u001b[0m\u001b[1;33m:\u001b[0m\u001b[1;33m\u001b[0m\u001b[1;33m\u001b[0m\u001b[0m\n",
      "\u001b[1;32m~\\anaconda3\\lib\\site-packages\\nltk\\tokenize\\punkt.py\u001b[0m in \u001b[0;36m_pair_iter\u001b[1;34m(it)\u001b[0m\n\u001b[0;32m    312\u001b[0m     \u001b[0mit\u001b[0m \u001b[1;33m=\u001b[0m \u001b[0miter\u001b[0m\u001b[1;33m(\u001b[0m\u001b[0mit\u001b[0m\u001b[1;33m)\u001b[0m\u001b[1;33m\u001b[0m\u001b[1;33m\u001b[0m\u001b[0m\n\u001b[0;32m    313\u001b[0m     \u001b[1;32mtry\u001b[0m\u001b[1;33m:\u001b[0m\u001b[1;33m\u001b[0m\u001b[1;33m\u001b[0m\u001b[0m\n\u001b[1;32m--> 314\u001b[1;33m         \u001b[0mprev\u001b[0m \u001b[1;33m=\u001b[0m \u001b[0mnext\u001b[0m\u001b[1;33m(\u001b[0m\u001b[0mit\u001b[0m\u001b[1;33m)\u001b[0m\u001b[1;33m\u001b[0m\u001b[1;33m\u001b[0m\u001b[0m\n\u001b[0m\u001b[0;32m    315\u001b[0m     \u001b[1;32mexcept\u001b[0m \u001b[0mStopIteration\u001b[0m\u001b[1;33m:\u001b[0m\u001b[1;33m\u001b[0m\u001b[1;33m\u001b[0m\u001b[0m\n\u001b[0;32m    316\u001b[0m         \u001b[1;32mreturn\u001b[0m\u001b[1;33m\u001b[0m\u001b[1;33m\u001b[0m\u001b[0m\n",
      "\u001b[1;32m~\\anaconda3\\lib\\site-packages\\nltk\\tokenize\\punkt.py\u001b[0m in \u001b[0;36m_slices_from_text\u001b[1;34m(self, text)\u001b[0m\n\u001b[0;32m   1328\u001b[0m     \u001b[1;32mdef\u001b[0m \u001b[0m_slices_from_text\u001b[0m\u001b[1;33m(\u001b[0m\u001b[0mself\u001b[0m\u001b[1;33m,\u001b[0m \u001b[0mtext\u001b[0m\u001b[1;33m)\u001b[0m\u001b[1;33m:\u001b[0m\u001b[1;33m\u001b[0m\u001b[1;33m\u001b[0m\u001b[0m\n\u001b[0;32m   1329\u001b[0m         \u001b[0mlast_break\u001b[0m \u001b[1;33m=\u001b[0m \u001b[1;36m0\u001b[0m\u001b[1;33m\u001b[0m\u001b[1;33m\u001b[0m\u001b[0m\n\u001b[1;32m-> 1330\u001b[1;33m         \u001b[1;32mfor\u001b[0m \u001b[0mmatch\u001b[0m \u001b[1;32min\u001b[0m \u001b[0mself\u001b[0m\u001b[1;33m.\u001b[0m\u001b[0m_lang_vars\u001b[0m\u001b[1;33m.\u001b[0m\u001b[0mperiod_context_re\u001b[0m\u001b[1;33m(\u001b[0m\u001b[1;33m)\u001b[0m\u001b[1;33m.\u001b[0m\u001b[0mfinditer\u001b[0m\u001b[1;33m(\u001b[0m\u001b[0mtext\u001b[0m\u001b[1;33m)\u001b[0m\u001b[1;33m:\u001b[0m\u001b[1;33m\u001b[0m\u001b[1;33m\u001b[0m\u001b[0m\n\u001b[0m\u001b[0;32m   1331\u001b[0m             \u001b[0mcontext\u001b[0m \u001b[1;33m=\u001b[0m \u001b[0mmatch\u001b[0m\u001b[1;33m.\u001b[0m\u001b[0mgroup\u001b[0m\u001b[1;33m(\u001b[0m\u001b[1;33m)\u001b[0m \u001b[1;33m+\u001b[0m \u001b[0mmatch\u001b[0m\u001b[1;33m.\u001b[0m\u001b[0mgroup\u001b[0m\u001b[1;33m(\u001b[0m\u001b[1;34m\"after_tok\"\u001b[0m\u001b[1;33m)\u001b[0m\u001b[1;33m\u001b[0m\u001b[1;33m\u001b[0m\u001b[0m\n\u001b[0;32m   1332\u001b[0m             \u001b[1;32mif\u001b[0m \u001b[0mself\u001b[0m\u001b[1;33m.\u001b[0m\u001b[0mtext_contains_sentbreak\u001b[0m\u001b[1;33m(\u001b[0m\u001b[0mcontext\u001b[0m\u001b[1;33m)\u001b[0m\u001b[1;33m:\u001b[0m\u001b[1;33m\u001b[0m\u001b[1;33m\u001b[0m\u001b[0m\n",
      "\u001b[1;31mTypeError\u001b[0m: expected string or bytes-like object"
     ]
    }
   ],
   "source": [
    "text_tokens = df['tags_text'].apply(lambda x: word_tokenize(x))"
   ]
  },
  {
   "cell_type": "code",
   "execution_count": 162,
   "metadata": {},
   "outputs": [
    {
     "output_type": "execute_result",
     "data": {
      "text/plain": [
       "['Quickly',\n",
       " 'access',\n",
       " 'the',\n",
       " 'spots',\n",
       " 'you',\n",
       " 'care',\n",
       " 'about',\n",
       " 'most',\n",
       " 'If',\n",
       " 'you',\n",
       " 'don',\n",
       " 't',\n",
       " 'know',\n",
       " 'of',\n",
       " 'Kehu',\n",
       " 'Butler',\n",
       " 'yet',\n",
       " 'there',\n",
       " 's',\n",
       " 'no',\n",
       " 'better',\n",
       " 'way',\n",
       " 'to',\n",
       " 'get',\n",
       " 'acquainted',\n",
       " 'with',\n",
       " 'the',\n",
       " 'young',\n",
       " 'man',\n",
       " 'than',\n",
       " 'with',\n",
       " 'this',\n",
       " 'excellent',\n",
       " 'clip',\n",
       " 'We',\n",
       " 'get',\n",
       " 'a',\n",
       " 'glimpse',\n",
       " 'into',\n",
       " 'the',\n",
       " '20',\n",
       " 'year',\n",
       " 'old',\n",
       " 'rising',\n",
       " 'surf',\n",
       " 'star',\n",
       " 's',\n",
       " 'life',\n",
       " 'in',\n",
       " 'Mount',\n",
       " 'Maunganui',\n",
       " 'Aotearoa',\n",
       " 'as',\n",
       " 'well',\n",
       " 'as',\n",
       " 'a',\n",
       " 'beautiful',\n",
       " 'insight',\n",
       " 'into',\n",
       " 'his',\n",
       " 'rich',\n",
       " 'culture',\n",
       " 'And',\n",
       " 'of',\n",
       " 'course',\n",
       " 'we',\n",
       " 'see',\n",
       " 'him',\n",
       " 'shred',\n",
       " 'with',\n",
       " 'the',\n",
       " 'smooth',\n",
       " 'power',\n",
       " 'that',\n",
       " 'made',\n",
       " 'him',\n",
       " 'the',\n",
       " 'Australasian',\n",
       " 'Junior',\n",
       " 'Champ',\n",
       " 'back',\n",
       " 'in',\n",
       " '2018',\n",
       " 'and',\n",
       " 'one',\n",
       " 'to',\n",
       " 'watch',\n",
       " 'out',\n",
       " 'for',\n",
       " 'in',\n",
       " 'the',\n",
       " 'future',\n",
       " 'Plus',\n",
       " 'he',\n",
       " 'has',\n",
       " 'some',\n",
       " 'ahh',\n",
       " 'pretty',\n",
       " 'colourful',\n",
       " 'things',\n",
       " 'to',\n",
       " 'say',\n",
       " 'about',\n",
       " 'New',\n",
       " 'Zealand',\n",
       " 'pies',\n",
       " 'versus',\n",
       " 'Aussie',\n",
       " 'pies',\n",
       " 'We',\n",
       " 've',\n",
       " 'got',\n",
       " 'all',\n",
       " 'kinds',\n",
       " 'of',\n",
       " 'reef',\n",
       " 'around',\n",
       " 'here',\n",
       " 'we',\n",
       " 'can',\n",
       " 'play',\n",
       " 'with',\n",
       " 'Get',\n",
       " 'ready',\n",
       " 'the',\n",
       " 'East',\n",
       " 'Coast',\n",
       " 'is',\n",
       " 'about',\n",
       " 'to',\n",
       " 'rumble',\n",
       " 'Ten',\n",
       " 'Things',\n",
       " 'from',\n",
       " 'Surfing',\n",
       " 'the',\n",
       " 'Internet',\n",
       " 'on',\n",
       " 'the',\n",
       " 'Week',\n",
       " 'That',\n",
       " 'Was',\n",
       " 'January',\n",
       " '15',\n",
       " '2021',\n",
       " 'Long',\n",
       " 'serving',\n",
       " 'and',\n",
       " 'legendary',\n",
       " 'stalwart',\n",
       " 'of',\n",
       " 'Australian',\n",
       " 'and',\n",
       " 'Queensland',\n",
       " 'surfing',\n",
       " 'passes',\n",
       " 'away',\n",
       " 'at',\n",
       " '82',\n",
       " 'The',\n",
       " 'Most',\n",
       " 'Core',\n",
       " 'Surf',\n",
       " 'Comp',\n",
       " 'of',\n",
       " 'the',\n",
       " 'Year',\n",
       " 'Ten',\n",
       " 'Things',\n",
       " 'from',\n",
       " 'Surfing',\n",
       " 'the',\n",
       " 'Internet',\n",
       " 'on',\n",
       " 'the',\n",
       " 'Week',\n",
       " 'That',\n",
       " 'Was',\n",
       " 'January',\n",
       " '9',\n",
       " '2021']"
      ]
     },
     "metadata": {},
     "execution_count": 162
    }
   ],
   "source": [
    "# word_tokenize(obj)\n",
    "# [word_tokenize(item) for item in df['p_text']]\n",
    "tokenizer = nltk.RegexpTokenizer(r\"\\w+\")\n",
    "new_words = tokenizer.tokenize(obj)\n",
    "new_words"
   ]
  },
  {
   "cell_type": "code",
   "execution_count": null,
   "metadata": {},
   "outputs": [],
   "source": []
  }
 ]
}