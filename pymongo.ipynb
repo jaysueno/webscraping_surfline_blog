{
 "cells": [
  {
   "cell_type": "code",
   "execution_count": 34,
   "metadata": {},
   "outputs": [],
   "source": [
    "# Import libraries/dependencies\n",
    "import pandas as pd \n",
    "import os\n",
    "import requests\n",
    "from splinter import Browser\n",
    "from bs4 import BeautifulSoup as bs \n",
    "import datetime as dt\n",
    "import time\n",
    "import pymongo"
   ]
  },
  {
   "cell_type": "code",
   "execution_count": 35,
   "metadata": {},
   "outputs": [],
   "source": [
    "# Initialize PyMongo to work with MongoDB local server\n",
    "conn = 'mongodb://localhost:27017'\n",
    "client = pymongo.MongoClient(conn)"
   ]
  },
  {
   "cell_type": "code",
   "execution_count": 36,
   "metadata": {},
   "outputs": [],
   "source": [
    "# Define database and collection\n",
    "db = client.surfline\n",
    "collection = db.news"
   ]
  },
  {
   "cell_type": "code",
   "execution_count": 37,
   "metadata": {},
   "outputs": [],
   "source": [
    "# Define the Surfline blog page URL\n",
    "url = 'https://www.surfline.com/surf-news'\n",
    "\n",
    "# Retrive the page with the request module\n",
    "response = requests.get(url)\n",
    "\n",
    "# Convert the response to text to obtain the html\n",
    "html = response.text"
   ]
  },
  {
   "cell_type": "code",
   "execution_count": 38,
   "metadata": {},
   "outputs": [],
   "source": [
    "### We will use a Chrome browser to view and download the HTML contents of the website using the Splinter library\n",
    "# Establish Chrome driver executable path. Make sure to dfine actual location on your drive.\n",
    "executable_path = {'executable_path': 'C:/Users/jaysu/chromedriver'}\n",
    "\n",
    "# Open a splinter browser\n",
    "browser = Browser('chrome', **executable_path, headless=False)"
   ]
  },
  {
   "cell_type": "code",
   "execution_count": 39,
   "metadata": {},
   "outputs": [
    {
     "output_type": "error",
     "ename": "KeyboardInterrupt",
     "evalue": "",
     "traceback": [
      "\u001b[1;31m---------------------------------------------------------------------------\u001b[0m",
      "\u001b[1;31mKeyboardInterrupt\u001b[0m                         Traceback (most recent call last)",
      "\u001b[1;32m<ipython-input-39-fedec80eaf38>\u001b[0m in \u001b[0;36m<module>\u001b[1;34m\u001b[0m\n\u001b[0;32m      1\u001b[0m \u001b[1;31m# Visit the defined URL on your splinter browser\u001b[0m\u001b[1;33m\u001b[0m\u001b[1;33m\u001b[0m\u001b[1;33m\u001b[0m\u001b[0m\n\u001b[0;32m      2\u001b[0m \u001b[0mbrowser\u001b[0m\u001b[1;33m.\u001b[0m\u001b[0mvisit\u001b[0m\u001b[1;33m(\u001b[0m\u001b[0murl\u001b[0m\u001b[1;33m)\u001b[0m\u001b[1;33m\u001b[0m\u001b[1;33m\u001b[0m\u001b[0m\n\u001b[1;32m----> 3\u001b[1;33m \u001b[0mtime\u001b[0m\u001b[1;33m.\u001b[0m\u001b[0msleep\u001b[0m\u001b[1;33m(\u001b[0m\u001b[1;36m5\u001b[0m\u001b[1;33m)\u001b[0m\u001b[1;33m\u001b[0m\u001b[1;33m\u001b[0m\u001b[0m\n\u001b[0m",
      "\u001b[1;31mKeyboardInterrupt\u001b[0m: "
     ]
    }
   ],
   "source": [
    "# Visit the defined URL on your splinter browser\n",
    "browser.visit(url)\n",
    "time.sleep(5)"
   ]
  },
  {
   "cell_type": "code",
   "execution_count": null,
   "metadata": {},
   "outputs": [],
   "source": [
    "### We will use the BeautifulSoup Library to scrape and parse the HTML\n",
    "# Create a BeautifulSoup object with the splinter broswer.html method to parse the html with 'html.parser' or 'lmxl' formats\n",
    "soup = bs(browser.html, 'html.parser')"
   ]
  },
  {
   "cell_type": "code",
   "execution_count": 44,
   "metadata": {},
   "outputs": [
    {
     "output_type": "stream",
     "name": "stdout",
     "text": [
      "Number of stories 85\nExample of the first html element block:\n<div class=\"quiver-feed-card__image\"><a aria-label=\"Feed Card Image\" href=\"https://www.surfline.com/surf-news/watch-tom-carroll-matt-grainger-break-tow-foiling-glide-empty-outside-sydney-reef/100137\" style='background-image: url(\"https://www.surfline.com/cdn-cgi/image/w=740,q=85,f=auto,fit=contain/https://d14fqx6aetz9ka.cloudfront.net/wp-content/uploads/2020/10/13192933/TC_Surfline_foil_oct20.jpg\");' tabindex=\"0\" target=\"\"></a></div>\n"
     ]
    }
   ],
   "source": [
    "### Create a list of weblinks of each news article that we will iterate through\n",
    "# Find all the image cards that hold the links to the stories with the BSoup object\n",
    "news_links = soup.find_all('div', class_='quiver-feed-card__image')\n",
    "\n",
    "# Print the number of articles and the first element contains element contents desired\n",
    "print(f'Number of stories {len(news_links)}')\n",
    "print(f'Example of the first html element block:')\n",
    "print(news_links[3])"
   ]
  },
  {
   "cell_type": "code",
   "execution_count": 75,
   "metadata": {},
   "outputs": [
    {
     "output_type": "stream",
     "name": "stdout",
     "text": [
      "No tags\n",
      "Scraped news article: Nov 2nd, 2020 Watch: Meet Kehu Butler, the 20-Year-Old Rising Surf Star From Mount Maunganui, NZ\n",
      "--------------------------------\n",
      "Scraped news article: Oct 17th, 2020 With No 2020 Olympics, How're the Surfers Feeling?\n",
      "--------------------------------\n"
     ]
    },
    {
     "output_type": "execute_result",
     "data": {
      "text/plain": [
       "{'title': \"With No 2020 Olympics, How're the Surfers Feeling?\",\n",
       " 'p_text': ['Quickly access the spots you care about most.',\n",
       "  'Two historic things: Surfing’s inaugural debut in the Olympics; the Olympics being postponed. Never in the 124-year history of the Games has either happened.',\n",
       "  'Then came 2020.',\n",
       "  'So, how have future Olympic surfers been dealing with this rollercoaster of the pandemic and potential Olympic glory? Surprisingly well, actually. In the video above, produced by the International Surfing Association (ISA), we check in with two gold medal hopefuls, Jordy Smith and Sally Fitzgibbons – both of whom are slated to represent their home countries in the now 2021 Tokyo Games – to hear how they’ve been spending this bizarro year.',\n",
       "  'Jordy Smith at the 2019 ISA World Surfing Games. Photo: ISA/Ben Reed',\n",
       "  'For Jordy: “Before COVID hit, I was in Hawaii. I was over there training and surfing. At that point I had to make the decision to get back to South Africa as the United States were shutting down their borders. We were fortunate enough to get on the last flight. It took us all in all two weeks to get back home.',\n",
       "  '“When I was a little kid, I always set goals for myself. That’s what the Olympics was to me. It was a dream. I had no idea that surfing would be a part of it during my lifetime. For that to happen during the peak of my career is really something special.”',\n",
       "  'Sally Fitzgibbons and Team Australia at the 2019 ISA World Surfing Games. Photo: Ben Reed',\n",
       "  'For Sally: “For me, the whole COVID experience was wild. A few times a week, I would check in with myself. Like, ‘I feel a bit anxious. Is this crazy? Oh yeah, it is.’ In those moments, I’ve really learned to polish the ordinary. The ordinary is epic.',\n",
       "  '“I love going running. It’s really well-suited to my personality. There’s a start line and a finish line – then everything in between kinda makes sense. The training can be really hard, but it’s really rewarding. The Olympic party is still gonna happen, just not right now. It gives you that breathing space to figure out your surfing and be fully prepared when the time does come.”',\n",
       "  'Here’s looking at you, 2021.',\n",
       "  'Concerned over COVID-19 pandemic, IOC reschedules Games likely to 2021',\n",
       "  'ISA President, Fernando Aguerre, sounds off one year before Tokyo 2020',\n",
       "  '11-time world champ will join Coffin, Andino, Moore, Conlogue and Marks at Olympic Qualifying event in Japan',\n",
       "  'Lucca Mesinas and Daniella Rosas Win Gold at Pan-Am Games',\n",
       "  'Could a surfer from Iran, Mongolia, Uruguay or Russia win a Gold Medal in Tokyo? ',\n",
       "  'Checking in with Tokyo 2021 competitors Jeremy Flores and Tatiana Weston-Webb'],\n",
       " 'tags_text': ['ISA', 'Jordy Smith', 'Olympics', 'sally fitzgibbons'],\n",
       " 'date': 'Oct 17th, 2020'}"
      ]
     },
     "metadata": {},
     "execution_count": 75
    }
   ],
   "source": [
    "####### INCLUDE THE SCRAPPING OF THE DATA OF EACH ARTICLE\n",
    "\n",
    "\n",
    "### We now begin the scraping of the webpage with a for loop and uploading the data to a MongoDB database\n",
    "# Begin for loop through the news_links list, create empty lists to populate scrape, and insert_one() to the collection at each iteration\n",
    "for item in news_links[1:3]:\n",
    "    # title = []\n",
    "    p_text = [] # the articles text contents\n",
    "    tags_text = [] # the tags of the article\n",
    "    date2 = []\n",
    "    url = item.find('a')['href']\n",
    "    browser.visit(url)\n",
    "    time.sleep(1)\n",
    "    soup1 = bs(browser.html, 'html.parser')\n",
    "    title = soup1.find('h1').text # title of article\n",
    "    p_copy = soup1.find_all('p')\n",
    "    for copy in p_copy:\n",
    "        p_text.append(copy.text)\n",
    "   \n",
    "    try:\n",
    "        tags = soup1.find('ul', class_='sl-article-tags')\n",
    "        for tag in tags.find_all('li'):\n",
    "            tags_text.append(tag.text)\n",
    "    except:\n",
    "        print(\"No tags\")\n",
    "\n",
    "    try:\n",
    "        element = soup1.find('div', class_='sl-editorial-author__details__date')\n",
    "        date_update = element.text.split('.', maxsplit=1)\n",
    "        date2 = date_update[0]\n",
    "    except:\n",
    "        print('No date')\n",
    "\n",
    "    post = {\n",
    "        'title': title,\n",
    "        'p_text': p_text,\n",
    "        'tags_text': tags_text,\n",
    "        'date': date2\n",
    "    }\n",
    "    print(f'Scraped news article: {date2} {title}')\n",
    "    print('--------------------------------')\n",
    "    collection.insert_one(post)\n",
    "post"
   ]
  },
  {
   "cell_type": "code",
   "execution_count": 61,
   "metadata": {},
   "outputs": [
    {
     "output_type": "execute_result",
     "data": {
      "text/plain": [
       "['Nov 2nd, 2020', ' Updated 3 months ago.']"
      ]
     },
     "metadata": {},
     "execution_count": 61
    }
   ],
   "source": [
    "post['date']"
   ]
  },
  {
   "cell_type": "code",
   "execution_count": 52,
   "metadata": {},
   "outputs": [
    {
     "output_type": "execute_result",
     "data": {
      "text/plain": [
       "'https://www.surfline.com/surf-news/watch-meet-kehu-butler-20-year-old-rising-surf-star-mount-maunganui-nz/102380'"
      ]
     },
     "metadata": {},
     "execution_count": 52
    }
   ],
   "source": [
    "url = news_links[1].find('a')['href']\n",
    "url"
   ]
  },
  {
   "cell_type": "code",
   "execution_count": 54,
   "metadata": {},
   "outputs": [],
   "source": [
    "browser.visit(url)"
   ]
  },
  {
   "cell_type": "code",
   "execution_count": 10,
   "metadata": {},
   "outputs": [],
   "source": [
    "# Uncommment code below to test to see what the \"post\" dictionary looks like\n",
    "# post"
   ]
  },
  {
   "cell_type": "code",
   "execution_count": 21,
   "metadata": {},
   "outputs": [],
   "source": [
    "test = news_links[2].find('div', class_=\"sl-editorial-author__details__date\")"
   ]
  },
  {
   "cell_type": "code",
   "execution_count": 22,
   "metadata": {},
   "outputs": [
    {
     "output_type": "stream",
     "name": "stdout",
     "text": [
      "None\n"
     ]
    }
   ],
   "source": [
    "print(test)"
   ]
  },
  {
   "cell_type": "code",
   "execution_count": 23,
   "metadata": {},
   "outputs": [
    {
     "output_type": "execute_result",
     "data": {
      "text/plain": [
       "<div class=\"quiver-feed-card__image\"><a aria-label=\"Feed Card Image\" href=\"https://www.surfline.com/surf-news/no-2020-olympics-howre-surfers-feeling/100712\" style='background-image: url(\"https://www.surfline.com/cdn-cgi/image/w=740,q=85,f=auto,fit=contain/https://d14fqx6aetz9ka.cloudfront.net/wp-content/uploads/2020/10/16161552/RSA_Jordy_Smith_ISA_Ben_Reed-10.jpg\");' tabindex=\"0\" target=\"\"></a></div>"
      ]
     },
     "metadata": {},
     "execution_count": 23
    }
   ],
   "source": [
    "news_links[2]"
   ]
  },
  {
   "cell_type": "code",
   "execution_count": 45,
   "metadata": {},
   "outputs": [
    {
     "output_type": "error",
     "ename": "TypeError",
     "evalue": "'NoneType' object is not subscriptable",
     "traceback": [
      "\u001b[1;31m---------------------------------------------------------------------------\u001b[0m",
      "\u001b[1;31mTypeError\u001b[0m                                 Traceback (most recent call last)",
      "\u001b[1;32m<ipython-input-45-42f8559afd8e>\u001b[0m in \u001b[0;36m<module>\u001b[1;34m\u001b[0m\n\u001b[0;32m      4\u001b[0m     \u001b[0mp_text\u001b[0m \u001b[1;33m=\u001b[0m \u001b[1;33m[\u001b[0m\u001b[1;33m]\u001b[0m \u001b[1;31m# the articles text contents\u001b[0m\u001b[1;33m\u001b[0m\u001b[1;33m\u001b[0m\u001b[0m\n\u001b[0;32m      5\u001b[0m     \u001b[0mtags_text\u001b[0m \u001b[1;33m=\u001b[0m \u001b[1;33m[\u001b[0m\u001b[1;33m]\u001b[0m \u001b[1;31m# the tags of the article\u001b[0m\u001b[1;33m\u001b[0m\u001b[1;33m\u001b[0m\u001b[0m\n\u001b[1;32m----> 6\u001b[1;33m     \u001b[0murl\u001b[0m \u001b[1;33m=\u001b[0m \u001b[0mitem\u001b[0m\u001b[1;33m.\u001b[0m\u001b[0mfind\u001b[0m\u001b[1;33m(\u001b[0m\u001b[1;34m'a'\u001b[0m\u001b[1;33m)\u001b[0m\u001b[1;33m[\u001b[0m\u001b[1;34m'href'\u001b[0m\u001b[1;33m]\u001b[0m\u001b[1;33m\u001b[0m\u001b[1;33m\u001b[0m\u001b[0m\n\u001b[0m\u001b[0;32m      7\u001b[0m     \u001b[0mbrowser\u001b[0m\u001b[1;33m.\u001b[0m\u001b[0mvisit\u001b[0m\u001b[1;33m(\u001b[0m\u001b[0murl\u001b[0m\u001b[1;33m)\u001b[0m\u001b[1;33m\u001b[0m\u001b[1;33m\u001b[0m\u001b[0m\n\u001b[0;32m      8\u001b[0m     \u001b[0mtime\u001b[0m\u001b[1;33m.\u001b[0m\u001b[0msleep\u001b[0m\u001b[1;33m(\u001b[0m\u001b[1;36m1\u001b[0m\u001b[1;33m)\u001b[0m\u001b[1;33m\u001b[0m\u001b[1;33m\u001b[0m\u001b[0m\n",
      "\u001b[1;31mTypeError\u001b[0m: 'NoneType' object is not subscriptable"
     ]
    }
   ],
   "source": [
    "for item in news_links[1]:\n",
    "    # title = []\n",
    "    date_article = []\n",
    "    p_text = [] # the articles text contents\n",
    "    tags_text = [] # the tags of the article\n",
    "    url = item.find('a')['href']\n",
    "    browser.visit(url)\n",
    "    time.sleep(1)\n",
    "    soup1 = bs(browser.html, 'html.parser')\n",
    "    title = soup1.find('h1').text # title of article\n",
    "    p_copy = soup1.find_all('p')\n",
    "    for copy in p_copy:\n",
    "        p_text.append(copy.text)\n",
    "    try:\n",
    "        tags = soup1.find('ul', class_='sl-article-tags')\n",
    "        for tag in tags.find_all('li'):\n",
    "            tags_text.append(tag.text)\n",
    "    except:\n",
    "        print(\"No tags\")\n",
    "    try:\n",
    "        element = soup.find('div', class_='sl-editorial-author__details__date')\n",
    "        date_update = element.text.split('.', maxsplit=1)\n",
    "        date = date_update[0]\n",
    "    except:\n",
    "        print('No date')\n",
    "    post = {\n",
    "        'title': title,\n",
    "        'p_text': p_text,\n",
    "        'tags_text': tags_text,\n",
    "    }\n",
    "    print(f'Scraped news article: {title}')\n",
    "    print('--------------------------------')\n",
    "    # collection.insert_one(post)\n",
    "post"
   ]
  },
  {
   "cell_type": "code",
   "execution_count": 72,
   "metadata": {},
   "outputs": [
    {
     "output_type": "execute_result",
     "data": {
      "text/plain": [
       "<div class=\"sl-editorial-author__details__date\">Nov 2nd, 2020. <span><span class=\"sl-editorial-author__details__date__updated\">Updated</span> 3 months ago.</span></div>"
      ]
     },
     "metadata": {},
     "execution_count": 72
    }
   ],
   "source": [
    "url2 = 'https://www.surfline.com/surf-news/watch-meet-kehu-butler-20-year-old-rising-surf-star-mount-maunganui-nz/102380'\n",
    "browser.visit(url2)\n",
    "# time.sleep(1)\n",
    "soup1 = bs(browser.html, 'html.parser')\n",
    "element = soup1.find('div', class_='sl-editorial-author__details__date')\n",
    "element"
   ]
  },
  {
   "cell_type": "code",
   "execution_count": 73,
   "metadata": {},
   "outputs": [
    {
     "output_type": "execute_result",
     "data": {
      "text/plain": [
       "'Nov 2nd, 2020'"
      ]
     },
     "metadata": {},
     "execution_count": 73
    }
   ],
   "source": [
    "date = element.text.split('.', maxsplit=1)\n",
    "date = date[0]\n",
    "date"
   ]
  },
  {
   "cell_type": "code",
   "execution_count": null,
   "metadata": {},
   "outputs": [],
   "source": []
  }
 ],
 "metadata": {
  "kernelspec": {
   "display_name": "Python 3",
   "language": "python",
   "name": "python3"
  },
  "language_info": {
   "codemirror_mode": {
    "name": "ipython",
    "version": 3
   },
   "file_extension": ".py",
   "mimetype": "text/x-python",
   "name": "python",
   "nbconvert_exporter": "python",
   "pygments_lexer": "ipython3",
   "version": "3.8.3-final"
  }
 },
 "nbformat": 4,
 "nbformat_minor": 2
}