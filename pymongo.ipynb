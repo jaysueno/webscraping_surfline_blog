{
 "cells": [
  {
   "cell_type": "code",
   "execution_count": 2,
   "metadata": {},
   "outputs": [],
   "source": [
    "# Import librarys\n",
    "import pandas as pd \n",
    "import os\n",
    "import requests\n",
    "from splinter import Browser\n",
    "from bs4 import BeautifulSoup as bs \n",
    "import datetime as dt\n",
    "import time\n",
    "import pymongo"
   ]
  },
  {
   "cell_type": "code",
   "execution_count": 3,
   "metadata": {},
   "outputs": [],
   "source": [
    "# Initialize PyMongo to work with MongoDBs\n",
    "conn = 'mongodb://localhost:27017'\n",
    "client = pymongo.MongoClient(conn)"
   ]
  },
  {
   "cell_type": "code",
   "execution_count": 25,
   "metadata": {},
   "outputs": [],
   "source": [
    "# Define database and collection\n",
    "db = client.surfline\n",
    "collection = db.news"
   ]
  },
  {
   "cell_type": "code",
   "execution_count": 6,
   "metadata": {},
   "outputs": [],
   "source": [
    "# Define the Surfline blog page URL\n",
    "url = 'https://www.surfline.com/surf-news'\n",
    "\n",
    "# Retrive the page with the request module\n",
    "response = requests.get(url)\n",
    "\n",
    "# convert the response to text to obtain the html\n",
    "html = response.text"
   ]
  },
  {
   "cell_type": "code",
   "execution_count": 7,
   "metadata": {},
   "outputs": [],
   "source": [
    "# Establish Chrome driver executable path. Make sure to dfine actual location on your drive.\n",
    "executable_path = {'executable_path': 'C:/Users/jaysu/chromedriver'}\n",
    "\n",
    "# Open a splinter browser\n",
    "browser = Browser('chrome', **executable_path, headless=False)"
   ]
  },
  {
   "cell_type": "code",
   "execution_count": 8,
   "metadata": {},
   "outputs": [],
   "source": [
    "# Visit the defined URL on your splinter browser\n",
    "browser.visit(url)\n",
    "time.sleep(5)"
   ]
  },
  {
   "cell_type": "code",
   "execution_count": 19,
   "metadata": {},
   "outputs": [],
   "source": [
    "# Create a BeautifulSoup object with the splinter broswer.html method to parse the html with 'html.parser' or 'lmxl' formats\n",
    "soup = bs(browser.html, 'html.parser')"
   ]
  },
  {
   "cell_type": "code",
   "execution_count": 11,
   "metadata": {},
   "outputs": [
    {
     "name": "stdout",
     "output_type": "stream",
     "text": [
      "Number of stories 85\n",
      "Example of the first html element block:\n",
      "<div class=\"quiver-feed-card__image\"><a aria-label=\"Feed Card Image\" href=\"https://www.surfline.com/surf-news/watch-tom-carroll-matt-grainger-break-tow-foiling-glide-empty-outside-sydney-reef/100137\" style='background-image: url(\"https://www.surfline.com/cdn-cgi/image/w=740,q=85,f=auto,fit=contain/https://d14fqx6aetz9ka.cloudfront.net/wp-content/uploads/2020/10/13192933/TC_Surfline_foil_oct20.jpg\");' tabindex=\"0\" target=\"\"></a></div>\n"
     ]
    }
   ],
   "source": [
    "# find all the image cards that hold the links to the stories\n",
    "news_links = soup.find_all('div', class_='quiver-feed-card__image')\n",
    "\n",
    "# check to see the first element contains element contents desired\n",
    "print(f'Number of stories {len(news_links)}')\n",
    "print(f'Example of the first html element block:')\n",
    "print(news_links[3])"
   ]
  },
  {
   "cell_type": "code",
   "execution_count": 82,
   "metadata": {},
   "outputs": [],
   "source": [
    "# news_links"
   ]
  },
  {
   "cell_type": "code",
   "execution_count": 27,
   "metadata": {},
   "outputs": [
    {
     "name": "stdout",
     "output_type": "stream",
     "text": [
      "Scraped news article: Russo Cam: A watery look into the North Shore’s \"secret society.\"\n",
      "--------------------------------\n",
      "No tags\n",
      "Scraped news article: Watch: Meet Kehu Butler, the 20-Year-Old Rising Surf Star From Mount Maunganui, NZ\n",
      "--------------------------------\n",
      "Scraped news article: With No 2020 Olympics, How're the Surfers Feeling?\n",
      "--------------------------------\n",
      "No tags\n",
      "Scraped news article: Watch Tom Carroll & Matt Grainger Break Down Tow-Foiling and Glide an Empty Outside Sydney Reef\n",
      "--------------------------------\n",
      "No tags\n",
      "Scraped news article: A Powerful South and SSE Groundswell Is About To Rock the Australian East Coast\n",
      "--------------------------------\n",
      "No tags\n",
      "Scraped news article: A Ripping New Rage Vid, Pete Mel's Stoke Is Everyone's Stoke, and Maverick's on Skis?\n",
      "--------------------------------\n",
      "No tags\n",
      "Scraped news article: RIP: Gordon James Philipson (1938-2021)\n",
      "--------------------------------\n",
      "No tags\n",
      "Scraped news article: Photos and Highlights From the '21 Burleigh Single Fin Festival\n",
      "--------------------------------\n",
      "No tags\n",
      "Scraped news article: A Powerful South and SSE Groundswell Is About To Rock the Australian East Coast\n",
      "--------------------------------\n",
      "No tags\n",
      "Scraped news article: Super Swell Highlights17h\n",
      "--------------------------------\n",
      "No tags\n",
      "Scraped news article: Pumping Surf Isn’t Over Yet, California\n",
      "--------------------------------\n",
      "Scraped news article: Pre-Game Swell Hits Hawaii; \"Preheats Oven\" for Saturday's Super Swell\n",
      "--------------------------------\n",
      "Scraped news article: Announcing: O'Neill Wave of the Winter Regional Edition\n",
      "--------------------------------\n",
      "Scraped news article: How to Enter - The Spirit of Surfing Cuervo Challenge\n",
      "--------------------------------\n",
      "Scraped news article: Welcome to The Spirit of Surfing Cuervo Challenge\n",
      "--------------------------------\n",
      "Scraped news article: How to Win the 4ocean Wave of the Decade\n",
      "--------------------------------\n",
      "Scraped news article: Y los ganadores son…\n",
      "--------------------------------\n",
      "Scraped news article: Así de épico estuvo Mundaka la semana pasada\n",
      "--------------------------------\n",
      "Scraped news article: Navidad en Bali con Arnau Riera\n",
      "--------------------------------\n",
      "Scraped news article: Merello y Natxo preparan sus armas para el Nazaré Challenge\n",
      "--------------------------------\n",
      "Scraped news article: Inside the First-Ever, All-Digital Vans Triple Crown of Surfing\n",
      "--------------------------------\n",
      "Scraped news article: 20 from ’20\n",
      "--------------------------------\n",
      "Scraped news article: Canadian Harvest\n",
      "--------------------------------\n",
      "No tags\n",
      "Scraped news article: Surfline Cameras\n",
      "--------------------------------\n",
      "No tags\n",
      "Scraped news article: January Best Bets for the East Coast and Caribbean\n",
      "--------------------------------\n",
      "Scraped news article: Vans Triple Crown Forecast: Surf On The Way\n",
      "--------------------------------\n",
      "Scraped news article: Day of the Decade? A Comparative Look at Three XXL Maverick's Swells\n",
      "--------------------------------\n",
      "Scraped news article: Nor'easter Set To Hammer Northeast U.S. with Surf and Snow\n",
      "--------------------------------\n",
      "Scraped news article: In a Year Riddled With Uncertainty, We Bought More Boards Than Ever\n",
      "--------------------------------\n",
      "Scraped news article: Expert Advice on How to Order Your First Custom Surfboard\n",
      "--------------------------------\n",
      "Scraped news article: Vittoria Farmer’s Pivot Point\n",
      "--------------------------------\n",
      "No tags\n",
      "Scraped news article: Shaper's Bay: Dan Mann, Anatomy of a Surfboard\n",
      "--------------------------------\n",
      "Scraped news article: Tropical Storm Eta Tracks Into the Caribbean Sea, Florida’s Surf, Wind Builds\n",
      "--------------------------------\n",
      "Scraped news article: Tropical Storm Beta Tracks Toward Landfall in Texas\n",
      "--------------------------------\n",
      "Scraped news article: Tropical Storm Josephine Struggling\n",
      "--------------------------------\n",
      "Scraped news article: Welcome to the Party, Tropical Storm Kyle\n",
      "--------------------------------\n",
      "No tags\n",
      "Scraped news article: Do You Think I’m Sexy - Featuring Sam Neiger\n",
      "--------------------------------\n",
      "No tags\n",
      "Scraped news article: Big Wave Risk Assessment Group (BWRAG) Returns to Puerto Rico\n",
      "--------------------------------\n",
      "No tags\n",
      "Scraped news article: Breaking Boundaries with the Gudauskas Brothers\n",
      "--------------------------------\n",
      "Scraped news article: Flashback: One Year Ago Today\n",
      "--------------------------------\n",
      "No tags\n",
      "Scraped news article: Premium Only Surfline Cams in Southern California\n",
      "--------------------------------\n",
      "Scraped news article: Wetsuits A-Z: The Ultimate Guide to Understanding Your Neoprene Options\n",
      "--------------------------------\n",
      "No tags\n",
      "Scraped news article: Test-embeds\n",
      "--------------------------------\n",
      "No tags\n",
      "Scraped news article: Testing cam widgets\n",
      "--------------------------------\n",
      "No tags\n",
      "Scraped news article: Surf Your Best Episode #5: Riding The Diagonal\n",
      "--------------------------------\n",
      "No tags\n",
      "Scraped news article: Talk Story: Gerry Lopez, Bali Beginnings\n",
      "--------------------------------\n",
      "No tags\n",
      "Scraped news article: How Mountain Biking Can Improve Your Surfing, with Albee Layer\n",
      "--------------------------------\n",
      "No tags\n",
      "Scraped news article: Storm Creatures: The Story of a Wild Sydney Winter\n",
      "--------------------------------\n",
      "Scraped news article: SURFBOARD REVIEW: Hayden Shapes Hypto Krypto\n",
      "--------------------------------\n",
      "Scraped news article: Tested: Flashbomb Heat Seeker 3/2mm Zip Free Steamer, Ten Months Down the Track\n",
      "--------------------------------\n",
      "Scraped news article: Boardshort Spotlight: Body Glove\n",
      "--------------------------------\n",
      "No tags\n",
      "Scraped news article: Kevin Wallis, KNBC News\n",
      "--------------------------------\n",
      "No tags\n",
      "Scraped news article: What's the Real Reason Shark Encounters Have Declined on the North Coast?\n",
      "--------------------------------\n",
      "No tags\n",
      "Scraped news article: 100 Days Summer: Sunscreen\n",
      "--------------------------------\n",
      "No tags\n",
      "Scraped news article: Clean Up Set\n",
      "--------------------------------\n",
      "No tags\n",
      "Scraped news article: How fast do waves travel?\n",
      "--------------------------------\n",
      "Scraped news article: Resort Guide: Pulse Surf Charters\n",
      "--------------------------------\n",
      "Scraped news article: Resort Guide: Surf Travel Specials\n",
      "--------------------------------\n",
      "Scraped news article: Resort Guide: Hollow Tree's Resort\n",
      "--------------------------------\n",
      "Scraped news article: Resort Guide: Casa La Barra Surf Resort\n",
      "--------------------------------\n",
      "No tags\n",
      "Scraped news article: Storm Creatures: The Story of a Wild Sydney Winter\n",
      "--------------------------------\n",
      "No tags\n",
      "Scraped news article: How Diving Can Improve Your Surfing, with Mark Healey\n",
      "--------------------------------\n",
      "Scraped news article: Two Near-Deaths Spawn New Nazaré Safety Crew\n",
      "--------------------------------\n",
      "No tags\n",
      "Scraped news article: Surf Your Best Episode #5: Riding The Diagonal\n",
      "--------------------------------\n",
      "No tags\n",
      "Scraped news article: How Mountain Biking Can Improve Your Surfing, with Albee Layer\n",
      "--------------------------------\n",
      "Scraped news article: Itching for a Surf Trip? Try the Maldives.\n",
      "--------------------------------\n",
      "Scraped news article: Spot Check: Duranbah\n",
      "--------------------------------\n",
      "Scraped news article: Five Reasons Shoulder Season Rules in the Mentawais\n",
      "--------------------------------\n",
      "Scraped news article: Tahiti With Teeth, Starring Jeremy Flores\n",
      "--------------------------------\n",
      "Scraped news article: Watch: John John Florence’s Outer Reef Behemoth\n",
      "--------------------------------\n",
      "Scraped news article: Jet-Ski Mayhem on Super Swell Saturday\n",
      "--------------------------------\n",
      "Scraped news article: Watch: Two Minutes of Massive Maverick's, 01-10-21\n",
      "--------------------------------\n",
      "Scraped news article: SoCal Barrelfest: Taylor Curran vs. Tom Curren\n",
      "--------------------------------\n",
      "Scraped news article: Watch: John John Florence’s Outer Reef Behemoth\n",
      "--------------------------------\n",
      "Scraped news article: Jet-Ski Mayhem on Super Swell Saturday\n",
      "--------------------------------\n",
      "No tags\n",
      "Scraped news article: A Powerful South and SSE Groundswell Is About To Rock the Australian East Coast\n",
      "--------------------------------\n",
      "No tags\n",
      "Scraped news article: Super Swell Highlights17h\n",
      "--------------------------------\n",
      "No tags\n",
      "Scraped news article: How Diving Can Improve Your Surfing, with Mark Healey\n",
      "--------------------------------\n"
     ]
    },
    {
     "name": "stdout",
     "output_type": "stream",
     "text": [
      "No tags\n",
      "Scraped news article: Pumping Surf Isn’t Over Yet, California\n",
      "--------------------------------\n",
      "Scraped news article: Pre-Game Swell Hits Hawaii; \"Preheats Oven\" for Saturday's Super Swell\n",
      "--------------------------------\n",
      "Scraped news article: How Will Jaws Stack Up? Comparing Pe’ahi‘s Greatest Hits\n",
      "--------------------------------\n",
      "Scraped news article: Replay: Live From Jaws and Waimea on Super Swell Saturday\n",
      "--------------------------------\n",
      "Scraped news article: R.I.P. Ben Aipa (1942-2021)\n",
      "--------------------------------\n",
      "No tags\n",
      "Scraped news article: A Ripping New Rage Vid, Pete Mel's Stoke Is Everyone's Stoke, and Maverick's on Skis?\n",
      "--------------------------------\n",
      "Scraped news article: Biggest Swell in Years to Hit Hawaii This Weekend\n",
      "--------------------------------\n"
     ]
    }
   ],
   "source": [
    "for item in news_links:\n",
    "    # title = []\n",
    "    p_text = []\n",
    "    tags_text = []\n",
    "    url = item.find('a')['href']\n",
    "    browser.visit(url)\n",
    "    time.sleep(1)\n",
    "    soup1 = bs(browser.html, 'html.parser')\n",
    "    title = soup1.find('h1').text # title of article\n",
    "    p_copy = soup1.find_all('p')\n",
    "    for copy in p_copy:\n",
    "        p_text.append(copy.text)\n",
    "    try:\n",
    "        tags = soup1.find('ul', class_='sl-article-tags')\n",
    "        for tag in tags.find_all('li'):\n",
    "            tags_text.append(tag.text)\n",
    "    except:\n",
    "        print(\"No tags\")\n",
    "    post = {\n",
    "        'title': title,\n",
    "        'p_text': p_text,\n",
    "        'tags_text': tags_text,\n",
    "    }\n",
    "    print(f'Scraped news article: {title}')\n",
    "    print('--------------------------------')\n",
    "    collection.insert_one(post)"
   ]
  },
  {
   "cell_type": "code",
   "execution_count": 26,
   "metadata": {},
   "outputs": [
    {
     "data": {
      "text/plain": [
       "{'title': 'A Powerful South and SSE Groundswell Is About To Rock the Australian East Coast',\n",
       " 'p_text': ['Quickly access the spots you care about most.',\n",
       "  'The month of January isn’t exactly renowned for big south swells\\xa0– and given the\\xa0projected, surf-related impacts associated with this year’s La Nina,\\xa0you’d think we’re more likely to see a large swell arriving out of east or northeast.',\n",
       "  'The La Nina looks like coming back into play late this month.\\xa0In the meantime, we’re now on the cusp of a large and long-enduring run of South and SSE groundswell across the East Coast: its evolution following a long-wave trough amplifying over eastern Australian and NZ longitudes. Its evolution now manifesting a large, complex and quasi stationary low pressure system south to southeast of the Tasman Sea and NZ.',\n",
       "  'This broadscale low is working in conjunction with a big high pressure system migrating slowly eastward below the Bight:\\xa0collectively\\xa0supporting a vast SSW/SW fetch area that’s been responsible for the last three days of south swell across the\\xa0NSW coast.',\n",
       "  'Monday’s MSLP chart depicts the source: a vigorous frontal low now moving clear of Tasmania’s swell shadow and into our prime south-swell window. Source: BOM',\n",
       "  'However, we’re now seeing rapid acceleration in wave-growth inside our mid and long-range south swell windows;\\xa0invigorated by an intense frontal low south of Tasmania now merging with the parent system. A satellite pass captured a core, 50 to 60 knot SSW fetch on Monday – initially aimed at Victorian and Tasmanian targets.',\n",
       "  'This ASCAT image depicts core wind-speeds of 50-60 knots: the driving force behind several days of thumping south groundswell across the NSW coast. Source: NOAA',\n",
       "  'As the low marches further east over the next 24 hours\\xa0we’ll see the severe gale to storm force fetch expanding in size as it moves clear of Tasmania’s swell shadow and into our swell window.',\n",
       "  'Further, the system goes to work upon an already highly active sea-state, still evident in the wake of the leading area of low pressure that swept across the southern Tasman Sea over the weekend.\\xa0That lends high confidence for a peak in seas and swell in the 40-50ft range, occurring over the southern Tasman Sea, just below the 40S parallel on Tuesday morning.',\n",
       "  'Maximum seas and swell are projected to top out in the 40-50ft range on Tuesday, leading in an overnight peak in energy spilling over into Wednesday morning.',\n",
       "  'Keep in mind the bulk of the resulting SW groundswell emanating from this source is directed further north and east (ie at NZ and Fiji) – and there’s little doubt both locations will feel the brunt of exceptionally large swell-event in the days following. However, that still points to a large and powerful southerly groundswell moving up the NSW coast: ramping up across the South Coast from Tuesday morning, before really kicking in across Sydney and Newcastle during the afternoon. For Sydney and locations north, it’s looking like the bulk of energy will move in throughout the evening and overnight, leading in still large and powerful surf across the region on Wednesday morning.',\n",
       "  'True south-exposed breaks and deepwater reefs across Sydney can expect set waves nudging the 8-10ft+ range early on Wednesday morning, before levelling off at a still energetic 6-8ft+ during the day.\\xa0Newcastle and mid-northern NSW coasts\\xa0are likely to see slightly larger surf early, with the bulk of energy building in across mid to northern NSW coasts throughout the afternoon. Having said all that, it’s clear that a moderate onshore SSE flow will limit surfing options to the most sheltered nooks and crannies holding the swell, so plan accordingly.',\n",
       "  'Data from our new Lotus model depicts a peak in energy across Sydney and surrounds early on Wednesday.',\n",
       "  'The sheer size of the fetch area will deliver many days of powerful surf:\\xa0transitioning from a pretty straight southerly direction on Wednesday’s peak, to a more SSE angle of 160 to 170 degrees on Thursday and Friday. That should see an exceptional day of surf on the Thursday and a still large and powerful groundswell is greeted by early light NW winds, trending moderate to fresh NE into the afternoon. Likewise, Friday should also offer up another full day of great conditions favouring south-facing breaks under a continued north to NE wind-regime.',\n",
       "  'Ten Things from Surfing & the Internet on the Week That Was January 15 2021',\n",
       "  'Long-serving and legendary stalwart of Australian and Queensland surfing passes away at 82',\n",
       "  'The Most Core Surf Comp of the Year',\n",
       "  \"With Sunset cancelled, Nick Carroll assesses the obstacles facing the WSL's planned restart in Australia\",\n",
       "  'Helicopter footage of the biggest day of the year',\n",
       "  \"Featuring XXL Jaws, Oahu's Outer Reefs and Waimea Bay\"],\n",
       " 'tags_text': []}"
      ]
     },
     "execution_count": 26,
     "metadata": {},
     "output_type": "execute_result"
    }
   ],
   "source": [
    "post"
   ]
  },
  {
   "cell_type": "code",
   "execution_count": 12,
   "metadata": {},
   "outputs": [],
   "source": [
    "tags_text = []\n",
    "tags = soup.find('ul', class_='sl-article-tags')\n",
    "# for tag in tags.find_all('li'):\n",
    "#     tags_text.append(tag.text)\n",
    "tags"
   ]
  },
  {
   "cell_type": "code",
   "execution_count": 20,
   "metadata": {},
   "outputs": [
    {
     "data": {
      "text/plain": [
       "[<ul class=\"sl-article-tags\"><li><a href=\"https://www.surfline.com/tag/cbd\">CBD</a></li><li><a href=\"https://www.surfline.com/tag/daniel-russo\">Daniel Russo</a></li><li><a href=\"https://www.surfline.com/tag/innerg\">InnerG</a></li><li><a href=\"https://www.surfline.com/tag/pipeline\">pipeline</a></li></ul>]"
      ]
     },
     "execution_count": 20,
     "metadata": {},
     "output_type": "execute_result"
    }
   ],
   "source": [
    "soup.find_all('ul', class_ = 'sl-article-tags')\n"
   ]
  },
  {
   "cell_type": "code",
   "execution_count": 86,
   "metadata": {},
   "outputs": [],
   "source": [
    "# p_text = []\n",
    "# p_copy = soup.find_all('p')\n",
    "# for copy in p_copy:\n",
    "#     p_text.append(copy.text)\n",
    "\n",
    "# p_text\n"
   ]
  },
  {
   "cell_type": "code",
   "execution_count": 87,
   "metadata": {},
   "outputs": [],
   "source": [
    "# p_copy.text()"
   ]
  },
  {
   "cell_type": "code",
   "execution_count": null,
   "metadata": {},
   "outputs": [],
   "source": []
  }
 ],
 "metadata": {
  "kernelspec": {
   "display_name": "Python 3",
   "language": "python",
   "name": "python3"
  },
  "language_info": {
   "codemirror_mode": {
    "name": "ipython",
    "version": 3
   },
   "file_extension": ".py",
   "mimetype": "text/x-python",
   "name": "python",
   "nbconvert_exporter": "python",
   "pygments_lexer": "ipython3",
   "version": "3.8.3"
  }
 },
 "nbformat": 4,
 "nbformat_minor": 2
}
